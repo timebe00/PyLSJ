{
 "cells": [
  {
   "cell_type": "code",
   "execution_count": 2,
   "metadata": {},
   "outputs": [
    {
     "name": "stdout",
     "output_type": "stream",
     "text": [
      "dpdpdp\n"
     ]
    }
   ],
   "source": [
    "print(\"dpdpdp\")"
   ]
  },
  {
   "cell_type": "code",
   "execution_count": 7,
   "metadata": {},
   "outputs": [
    {
     "name": "stdout",
     "output_type": "stream",
     "text": [
      "100\n",
      "[0, 1, 4, 9, 16, 25, 36, 49, 64, 81]\n",
      "0\n",
      "1\n",
      "4\n",
      "None\n",
      "pass\n"
     ]
    },
    {
     "ename": "TimeoutError",
     "evalue": "",
     "output_type": "error",
     "traceback": [
      "\u001b[0;31m---------------------------------------------------------------------------\u001b[0m",
      "\u001b[0;31mTimeoutError\u001b[0m                              Traceback (most recent call last)",
      "\u001b[0;32m<ipython-input-7-d97492033195>\u001b[0m in \u001b[0;36m<module>\u001b[0;34m\u001b[0m\n\u001b[1;32m     25\u001b[0m \u001b[0;34m\u001b[0m\u001b[0m\n\u001b[1;32m     26\u001b[0m \u001b[0mres\u001b[0m \u001b[0;34m=\u001b[0m \u001b[0mpool\u001b[0m\u001b[0;34m.\u001b[0m\u001b[0mapply_async\u001b[0m\u001b[0;34m(\u001b[0m\u001b[0mtime\u001b[0m\u001b[0;34m.\u001b[0m\u001b[0msleep\u001b[0m\u001b[0;34m,\u001b[0m \u001b[0;34m(\u001b[0m\u001b[0;36m10\u001b[0m\u001b[0;34m,\u001b[0m \u001b[0;34m)\u001b[0m\u001b[0;34m)\u001b[0m\u001b[0;34m\u001b[0m\u001b[0;34m\u001b[0m\u001b[0m\n\u001b[0;32m---> 27\u001b[0;31m \u001b[0mprint\u001b[0m\u001b[0;34m(\u001b[0m\u001b[0mres\u001b[0m\u001b[0;34m.\u001b[0m\u001b[0mget\u001b[0m\u001b[0;34m(\u001b[0m\u001b[0mtimeout\u001b[0m \u001b[0;34m=\u001b[0m \u001b[0;36m3\u001b[0m\u001b[0;34m)\u001b[0m\u001b[0;34m)\u001b[0m\u001b[0;34m\u001b[0m\u001b[0;34m\u001b[0m\u001b[0m\n\u001b[0m",
      "\u001b[0;32m~/sw/anaconda/lib/python3.7/multiprocessing/pool.py\u001b[0m in \u001b[0;36mget\u001b[0;34m(self, timeout)\u001b[0m\n\u001b[1;32m    651\u001b[0m         \u001b[0mself\u001b[0m\u001b[0;34m.\u001b[0m\u001b[0mwait\u001b[0m\u001b[0;34m(\u001b[0m\u001b[0mtimeout\u001b[0m\u001b[0;34m)\u001b[0m\u001b[0;34m\u001b[0m\u001b[0;34m\u001b[0m\u001b[0m\n\u001b[1;32m    652\u001b[0m         \u001b[0;32mif\u001b[0m \u001b[0;32mnot\u001b[0m \u001b[0mself\u001b[0m\u001b[0;34m.\u001b[0m\u001b[0mready\u001b[0m\u001b[0;34m(\u001b[0m\u001b[0;34m)\u001b[0m\u001b[0;34m:\u001b[0m\u001b[0;34m\u001b[0m\u001b[0;34m\u001b[0m\u001b[0m\n\u001b[0;32m--> 653\u001b[0;31m             \u001b[0;32mraise\u001b[0m \u001b[0mTimeoutError\u001b[0m\u001b[0;34m\u001b[0m\u001b[0;34m\u001b[0m\u001b[0m\n\u001b[0m\u001b[1;32m    654\u001b[0m         \u001b[0;32mif\u001b[0m \u001b[0mself\u001b[0m\u001b[0;34m.\u001b[0m\u001b[0m_success\u001b[0m\u001b[0;34m:\u001b[0m\u001b[0;34m\u001b[0m\u001b[0;34m\u001b[0m\u001b[0m\n\u001b[1;32m    655\u001b[0m             \u001b[0;32mreturn\u001b[0m \u001b[0mself\u001b[0m\u001b[0;34m.\u001b[0m\u001b[0m_value\u001b[0m\u001b[0;34m\u001b[0m\u001b[0;34m\u001b[0m\u001b[0m\n",
      "\u001b[0;31mTimeoutError\u001b[0m: "
     ]
    }
   ],
   "source": [
    "import time\n",
    "from multiprocessing import Pool\n",
    "\n",
    "def f(x):\n",
    "    return x*x\n",
    "\n",
    "# 프로세스들의 집합 장소를 만들어서 4개를 수용할 수 있도록 하였다.\n",
    "pool = Pool(processes = 4)\n",
    "\n",
    "#위의 def f라는 기능을 10번 작업하도록 하낟.\n",
    "# 이때 작업 전체는 비동기 처리가 이루어진다.\n",
    "# \n",
    "res = pool.apply_async(f, (10, ))\n",
    "print(res. get(timeout = 1))\n",
    "print(pool.map(f, range(10)))\n",
    "\n",
    "it = pool.imap(f, range(10))\n",
    "print(it.next())\n",
    "print(it.next())\n",
    "print(it.next(timeout = 2))\n",
    "\n",
    "res = pool.apply_async(time.sleep, (10, ))\n",
    "print(res.get(timeout = 60))\n",
    "print(\"pass\")\n",
    "\n",
    "res = pool.apply_async(time.sleep, (10, ))\n",
    "print(res.get(timeout = 3))"
   ]
  },
  {
   "cell_type": "code",
   "execution_count": 24,
   "metadata": {},
   "outputs": [
    {
     "name": "stdout",
     "output_type": "stream",
     "text": [
      "Final Monet = 20840\n",
      "Final Monet = 23525\n",
      "Final Monet = 26499\n",
      "Final Monet = 17339\n",
      "Final Monet = 22118\n",
      "Final Monet = 15415\n",
      "Final Monet = 17648\n",
      "Final Monet = 16696\n",
      "Final Monet = 16081\n",
      "Final Monet = 20177\n"
     ]
    }
   ],
   "source": [
    "import multiprocessing as mp\n",
    "# p1 프로세스의 작업\n",
    "def withdraw(money, lock):\n",
    "    for _ in range(20000):\n",
    "        money.value -= 1\n",
    "        \n",
    "# p2 프로세스의 작업\n",
    "def deposit(money, lock):\n",
    "    for _ in range(20000):\n",
    "        money.value += 1\n",
    "\n",
    "def perform_process():\n",
    "    # money는 크리티컬 섹션이 되었다.\n",
    "    money = mp.Value('i', 20000)\n",
    "    lock = mp.Lock()\n",
    "    \n",
    "    p1 = mp.Process(target = withdraw, args = (money, lock, ))\n",
    "    p2 = mp.Process(target = deposit, args = (money, lock ))\n",
    "    \n",
    "    p1.start()\n",
    "    p2.start()\n",
    "    \n",
    "    p1.join()\n",
    "    p2.join()\n",
    "    \n",
    "    print(\"Final Monet = {}\".format(money.value))\n",
    "for j in range(10):\n",
    "    perform_process()"
   ]
  },
  {
   "cell_type": "code",
   "execution_count": 23,
   "metadata": {},
   "outputs": [
    {
     "name": "stdout",
     "output_type": "stream",
     "text": [
      "Final Monet = 32066\n",
      "Final Monet = 33191\n",
      "Final Monet = 32625\n",
      "Final Monet = 34118\n",
      "Final Monet = 33393\n",
      "Final Monet = 32866\n",
      "Final Monet = 31088\n",
      "Final Monet = 35181\n",
      "Final Monet = 33511\n",
      "Final Monet = 34223\n"
     ]
    }
   ],
   "source": [
    "import multiprocessing as mp\n",
    "# p1 프로세스의 작업\n",
    "def withdraw(money, lock):\n",
    "    for _ in range(20000):\n",
    "        lock.acquire()\n",
    "        money.value -= 1\n",
    "        lock.release()\n",
    "        \n",
    "# p2 프로세스의 작업\n",
    "def deposit(money, lock):\n",
    "    for _ in range(20000):\n",
    "         lock.acquire()\n",
    "        money.value += 1\n",
    "         lock.release()\n",
    "\n",
    "def perform_process():\n",
    "    # money는 크리티컬 섹션이 되었다.\n",
    "    money = mp.Value('i', 20000)\n",
    "    lock = mp.Lock()\n",
    "    \n",
    "    p1 = mp.Process(target = withdraw, args = (money, lock, ))\n",
    "    p2 = mp.Process(target = deposit, args = (money, lock ))\n",
    "    \n",
    "    p1.start()\n",
    "    p2.start()\n",
    "    \n",
    "    p1.join()\n",
    "    p2.join()\n",
    "    \n",
    "    print(\"Final Monet = {}\".format(money.value))\n",
    "for j in range(10):\n",
    "    perform_process()"
   ]
  },
  {
   "cell_type": "code",
   "execution_count": 30,
   "metadata": {},
   "outputs": [
    {
     "name": "stderr",
     "output_type": "stream",
     "text": [
      "Exception in thread Thread-55:\n",
      "Traceback (most recent call last):\n",
      "  File \"/home/bitai/sw/anaconda/lib/python3.7/threading.py\", line 926, in _bootstrap_inner\n",
      "    self.run()\n",
      "  File \"<ipython-input-30-548933f15879>\", line 7, in run\n",
      "    prinf(\"[time : %s][tid : %d] Thread!\\n\"%(now, self.ident))\n",
      "NameError: name 'prinf' is not defined\n",
      "\n",
      "Exception in thread Thread-56:\n",
      "Traceback (most recent call last):\n",
      "  File \"/home/bitai/sw/anaconda/lib/python3.7/threading.py\", line 926, in _bootstrap_inner\n",
      "    self.run()\n",
      "  File \"<ipython-input-30-548933f15879>\", line 7, in run\n",
      "    prinf(\"[time : %s][tid : %d] Thread!\\n\"%(now, self.ident))\n",
      "NameError: name 'prinf' is not defined\n",
      "\n",
      "Exception in thread Thread-57:\n",
      "Traceback (most recent call last):\n",
      "  File \"/home/bitai/sw/anaconda/lib/python3.7/threading.py\", line 926, in _bootstrap_inner\n",
      "    self.run()\n",
      "  File \"<ipython-input-30-548933f15879>\", line 7, in run\n",
      "    prinf(\"[time : %s][tid : %d] Thread!\\n\"%(now, self.ident))\n",
      "NameError: name 'prinf' is not defined\n",
      "\n",
      "Exception in thread Thread-58:\n",
      "Traceback (most recent call last):\n",
      "  File \"/home/bitai/sw/anaconda/lib/python3.7/threading.py\", line 926, in _bootstrap_inner\n",
      "    self.run()\n",
      "  File \"<ipython-input-30-548933f15879>\", line 7, in run\n",
      "    prinf(\"[time : %s][tid : %d] Thread!\\n\"%(now, self.ident))\n",
      "NameError: name 'prinf' is not defined\n",
      "\n",
      "Exception in thread Thread-59:\n",
      "Traceback (most recent call last):\n",
      "  File \"/home/bitai/sw/anaconda/lib/python3.7/threading.py\", line 926, in _bootstrap_inner\n",
      "    self.run()\n",
      "  File \"<ipython-input-30-548933f15879>\", line 7, in run\n",
      "    prinf(\"[time : %s][tid : %d] Thread!\\n\"%(now, self.ident))\n",
      "NameError: name 'prinf' is not defined\n",
      "\n",
      "Exception in thread Thread-61:\n",
      "Traceback (most recent call last):\n",
      "  File \"/home/bitai/sw/anaconda/lib/python3.7/threading.py\", line 926, in _bootstrap_inner\n",
      "    self.run()\n",
      "  File \"<ipython-input-30-548933f15879>\", line 7, in run\n",
      "    prinf(\"[time : %s][tid : %d] Thread!\\n\"%(now, self.ident))\n",
      "NameError: name 'prinf' is not defined\n",
      "\n",
      "Exception in thread Thread-60:\n",
      "Traceback (most recent call last):\n",
      "  File \"/home/bitai/sw/anaconda/lib/python3.7/threading.py\", line 926, in _bootstrap_inner\n",
      "    self.run()\n",
      "  File \"<ipython-input-30-548933f15879>\", line 7, in run\n",
      "    prinf(\"[time : %s][tid : %d] Thread!\\n\"%(now, self.ident))\n",
      "NameError: name 'prinf' is not defined\n",
      "\n",
      "Exception in thread Thread-62:\n",
      "Traceback (most recent call last):\n",
      "  File \"/home/bitai/sw/anaconda/lib/python3.7/threading.py\", line 926, in _bootstrap_inner\n",
      "    self.run()\n",
      "  File \"<ipython-input-30-548933f15879>\", line 7, in run\n",
      "    prinf(\"[time : %s][tid : %d] Thread!\\n\"%(now, self.ident))\n",
      "NameError: name 'prinf' is not defined\n",
      "\n",
      "Exception in thread Thread-63:\n",
      "Traceback (most recent call last):\n",
      "  File \"/home/bitai/sw/anaconda/lib/python3.7/threading.py\", line 926, in _bootstrap_inner\n",
      "    self.run()\n",
      "  File \"<ipython-input-30-548933f15879>\", line 7, in run\n",
      "    prinf(\"[time : %s][tid : %d] Thread!\\n\"%(now, self.ident))\n",
      "NameError: name 'prinf' is not defined\n",
      "\n",
      "Exception in thread Thread-64:\n",
      "Traceback (most recent call last):\n",
      "  File \"/home/bitai/sw/anaconda/lib/python3.7/threading.py\", line 926, in _bootstrap_inner\n",
      "    self.run()\n",
      "  File \"<ipython-input-30-548933f15879>\", line 7, in run\n",
      "    prinf(\"[time : %s][tid : %d] Thread!\\n\"%(now, self.ident))\n",
      "NameError: name 'prinf' is not defined\n",
      "\n",
      "Exception in thread Thread-65:\n",
      "Traceback (most recent call last):\n",
      "  File \"/home/bitai/sw/anaconda/lib/python3.7/threading.py\", line 926, in _bootstrap_inner\n",
      "    self.run()\n",
      "  File \"<ipython-input-30-548933f15879>\", line 7, in run\n",
      "    prinf(\"[time : %s][tid : %d] Thread!\\n\"%(now, self.ident))\n",
      "NameError: name 'prinf' is not defined\n",
      "\n",
      "Exception in thread Thread-66:\n",
      "Traceback (most recent call last):\n",
      "  File \"/home/bitai/sw/anaconda/lib/python3.7/threading.py\", line 926, in _bootstrap_inner\n",
      "    self.run()\n",
      "  File \"<ipython-input-30-548933f15879>\", line 7, in run\n",
      "    prinf(\"[time : %s][tid : %d] Thread!\\n\"%(now, self.ident))\n",
      "NameError: name 'prinf' is not defined\n",
      "\n"
     ]
    }
   ],
   "source": [
    "import time\n",
    "import threading\n",
    "class DummyThread(threading.Thread):\n",
    "    def run(self):\n",
    "        now = time.ctime()\n",
    "        \n",
    "        prinf(\"[time : %s][tid : %d] Thread!\\n\"%(now, self.ident))\n",
    "        time.sleep(30)\n",
    "for _ in range(12):\n",
    "    t = DummyThread()\n",
    "    t.start()"
   ]
  },
  {
   "cell_type": "code",
   "execution_count": null,
   "metadata": {},
   "outputs": [],
   "source": [
    "# Thread는 Process와 다른점이 있다.\n",
    "# Thread는 기본적으로  Data 영역을 공유한다.\n",
    "# Process는 기본적으로 Data영역을 부리되어 있음"
   ]
  },
  {
   "cell_type": "code",
   "execution_count": 40,
   "metadata": {},
   "outputs": [
    {
     "name": "stdout",
     "output_type": "stream",
     "text": [
      "x = 1598901 after Iteration 0\n",
      "x = 1640132 after Iteration 1\n",
      "x = 1660130 after Iteration 2\n",
      "x = 1595485 after Iteration 3\n",
      "x = 1370328 after Iteration 4\n",
      "x = 1551765 after Iteration 5\n",
      "x = 1536385 after Iteration 6\n",
      "x = 1593077 after Iteration 7\n",
      "x = 1833642 after Iteration 8\n",
      "x = 1733845 after Iteration 9\n"
     ]
    }
   ],
   "source": [
    "import threading\n",
    "\n",
    "x = 0\n",
    "\n",
    "def increment_global():\n",
    "    global x\n",
    "    x += 1\n",
    "\n",
    "def taskOfThread():\n",
    "    for _ in range(1000000):\n",
    "        increment_global()\n",
    "        \n",
    "def thread_main():\n",
    "    global x\n",
    "    x = 0\n",
    "    \n",
    "    t1 = threading.Thread(target = taskOfThread)\n",
    "    t2 = threading.Thread(target = taskOfThread)\n",
    "    \n",
    "    t1.start()\n",
    "    t2.start()\n",
    "    \n",
    "    t1.join()\n",
    "    t2.join()\n",
    "    \n",
    "for i in range(10):\n",
    "    thread_main()\n",
    "    print(\"x = {1} after Iteration {0}\".format(i, x))"
   ]
  },
  {
   "cell_type": "code",
   "execution_count": 39,
   "metadata": {},
   "outputs": [
    {
     "name": "stdout",
     "output_type": "stream",
     "text": [
      "x = 2000000 after Iteration 0\n",
      "x = 2000000 after Iteration 1\n",
      "x = 2000000 after Iteration 2\n",
      "x = 2000000 after Iteration 3\n",
      "x = 2000000 after Iteration 4\n",
      "x = 2000000 after Iteration 5\n",
      "x = 2000000 after Iteration 6\n",
      "x = 2000000 after Iteration 7\n",
      "x = 2000000 after Iteration 8\n",
      "x = 2000000 after Iteration 9\n"
     ]
    }
   ],
   "source": [
    "import threading\n",
    "\n",
    "lock = threading.Lock()\n",
    "x = 0\n",
    "\n",
    "def increment_global():\n",
    "    global x\n",
    "    x += 1\n",
    "\n",
    "def taskOfThread():\n",
    "    for _ in range(1000000):\n",
    "        lock.acquire()\n",
    "        increment_global()\n",
    "        lock.release()\n",
    "        \n",
    "def thread_main():\n",
    "    global x\n",
    "    x = 0\n",
    "    \n",
    "    t1 = threading.Thread(target = taskOfThread)\n",
    "    t2 = threading.Thread(target = taskOfThread)\n",
    "    \n",
    "    t1.start()\n",
    "    t2.start()\n",
    "    \n",
    "    t1.join()\n",
    "    t2.join()\n",
    "    \n",
    "for i in range(10):\n",
    "    thread_main()\n",
    "    print(\"x = {1} after Iteration {0}\".format(i, x))"
   ]
  },
  {
   "cell_type": "code",
   "execution_count": 41,
   "metadata": {},
   "outputs": [],
   "source": [
    "def square2(x):\n",
    "    return x*x\n",
    "\n",
    "myList = [1, 2, 3, 4, 5]\n",
    "res = []\n",
    "\n",
    "for num in myList:\n",
    "    res.append(square(num))"
   ]
  },
  {
   "cell_type": "code",
   "execution_count": 44,
   "metadata": {},
   "outputs": [
    {
     "name": "stdout",
     "output_type": "stream",
     "text": [
      "Work Process ins for 3 : 3302\n",
      "Work Process ins for 5 : 3304\n",
      "Work Process ins for 1 : 3300\n",
      "Work Process ins for 4 : 3303\n",
      "Work Process ins for 2 : 3307\n",
      "[1, 4, 9, 16, 25]\n"
     ]
    }
   ],
   "source": [
    "import os\n",
    "import multiprocessing\n",
    "\n",
    "def square(n):\n",
    "    print(\"Work Process ins for {0} : {1}\".format(n, os.getpid()))\n",
    "    return n * n\n",
    "\n",
    "p = multiprocessing.Pool()\n",
    "res = p.map(square, myList)\n",
    "\n",
    "print(res)"
   ]
  },
  {
   "cell_type": "code",
   "execution_count": 4,
   "metadata": {},
   "outputs": [
    {
     "ename": "AttributeError",
     "evalue": "module 'logging' has no attribute 'basicConfing'",
     "output_type": "error",
     "traceback": [
      "\u001b[0;31m---------------------------------------------------------------------------\u001b[0m",
      "\u001b[0;31mAttributeError\u001b[0m                            Traceback (most recent call last)",
      "\u001b[0;32m<ipython-input-4-002bb9db90df>\u001b[0m in \u001b[0;36m<module>\u001b[0;34m\u001b[0m\n\u001b[1;32m      3\u001b[0m \u001b[0;32mimport\u001b[0m \u001b[0mlogging\u001b[0m\u001b[0;34m\u001b[0m\u001b[0;34m\u001b[0m\u001b[0m\n\u001b[1;32m      4\u001b[0m \u001b[0;34m\u001b[0m\u001b[0m\n\u001b[0;32m----> 5\u001b[0;31m \u001b[0mlogging\u001b[0m\u001b[0;34m.\u001b[0m\u001b[0mbasicConfing\u001b[0m\u001b[0;34m(\u001b[0m\u001b[0mlevel\u001b[0m \u001b[0;34m=\u001b[0m \u001b[0mlogging\u001b[0m\u001b[0;34m.\u001b[0m\u001b[0mDEBUG\u001b[0m\u001b[0;34m,\u001b[0m \u001b[0mformat\u001b[0m \u001b[0;34m=\u001b[0m \u001b[0;34m'(%(threadName)-9s) %(message)s'\u001b[0m\u001b[0;34m,\u001b[0m\u001b[0;34m)\u001b[0m\u001b[0;34m\u001b[0m\u001b[0;34m\u001b[0m\u001b[0m\n\u001b[0m\u001b[1;32m      6\u001b[0m \u001b[0;34m\u001b[0m\u001b[0m\n\u001b[1;32m      7\u001b[0m \u001b[0;32mclass\u001b[0m \u001b[0mThreadPool\u001b[0m\u001b[0;34m(\u001b[0m\u001b[0mobject\u001b[0m\u001b[0;34m)\u001b[0m\u001b[0;34m:\u001b[0m\u001b[0;34m\u001b[0m\u001b[0;34m\u001b[0m\u001b[0m\n",
      "\u001b[0;31mAttributeError\u001b[0m: module 'logging' has no attribute 'basicConfing'"
     ]
    }
   ],
   "source": [
    "import threading\n",
    "import time\n",
    "import logging\n",
    "\n",
    "logging.basicConfing(level = logging.DEBUG, format = '(%(threadName)-9s) %(message)s',)\n",
    "\n",
    "class ThreadPool(object):\n",
    "    def __init__(self):\n",
    "        super(ThreadPool. self).__inint__()\n",
    "        self.active = []\n",
    "        self.lock = threading.Lock()\n",
    "        \n",
    "    def makeActivie(self, name):\n",
    "        with self.lock:\n",
    "            self.active.append(name)\n",
    "            \n",
    "            time.sleep(5)\n",
    "            logging.debug('Rummomg : %s', self.active)\n",
    "            \n",
    "    def makeInactive(self, name):\n",
    "        with self.lock:\n",
    "            self.active.remove(name)\n",
    "            logging.debug('Running : %s', slef.active)\n",
    "    \n",
    "    \n",
    "def f(s, pool):\n",
    "    logging.debug('Waiting to join the pool')\n",
    "    with s :\n",
    "        name = threading.currentThread().getName()\n",
    "        pool.makeActive(name)\n",
    "        time.sleep(1)\n",
    "        pool.makeInactive(name)\n",
    "            \n",
    "pool = ThreadPool()\n",
    "s = threading.Semaphore(3)\n",
    "for i in range(10):\n",
    "    t= threading.Thread(tharget = f, name = 'thread_' + str(i), args = (s,pool))\n",
    "    t.start()"
   ]
  },
  {
   "cell_type": "code",
   "execution_count": 2,
   "metadata": {},
   "outputs": [
    {
     "name": "stderr",
     "output_type": "stream",
     "text": [
      "/home/bitai/sw/anaconda/lib/python3.7/importlib/_bootstrap.py:219: RuntimeWarning: numpy.ufunc size changed, may indicate binary incompatibility. Expected 192 from C header, got 216 from PyObject\n",
      "  return f(*args, **kwds)\n"
     ]
    },
    {
     "name": "stdout",
     "output_type": "stream",
     "text": [
      "[[166.   58.7]\n",
      " [176.   75.7]\n",
      " [171.   62.1]\n",
      " [173.   70.4]\n",
      " [169.   60.1]]\n",
      "(5, 2)\n"
     ]
    }
   ],
   "source": [
    "import numpy as np\n",
    "import pandas as pd\n",
    "import matplotlib.pyplot as plt"
   ]
  },
  {
   "cell_type": "code",
   "execution_count": 3,
   "metadata": {},
   "outputs": [
    {
     "name": "stdout",
     "output_type": "stream",
     "text": [
      "[[166.   58.7]\n",
      " [176.   75.7]\n",
      " [171.   62.1]\n",
      " [173.   70.4]\n",
      " [169.   60.1]]\n",
      "(5, 2)\n"
     ]
    }
   ],
   "source": [
    "sampleDatal = np.array([[166, 58.7], [176.0, 75.7], [171.0, 62.1], [173.0, 70.4], [169.0, 60.1]])\n",
    "\n",
    "print(sampleDatal)\n",
    "print(sampleDatal.shape)"
   ]
  },
  {
   "cell_type": "code",
   "execution_count": 6,
   "metadata": {},
   "outputs": [
    {
     "data": {
      "image/png": "[encoded data removed]",
      "text/plain": [
       "<Figure size 432x288 with 1 Axes>"
      ]
     },
     "metadata": {
      "needs_background": "light"
     },
     "output_type": "display_data"
    }
   ],
   "source": [
    "for point in sampleDatal :\n",
    "    plt.scatter(point[0], point[1], c = 'k', s = 50)\n",
    "    \n",
    "plt.grid()\n",
    "plt.xlabel('$x$')\n",
    "plt.ylabel('$y$')\n",
    "plt.show()"
   ]
  },
  {
   "cell_type": "code",
   "execution_count": 9,
   "metadata": {},
   "outputs": [
    {
     "name": "stdout",
     "output_type": "stream",
     "text": [
      "[0 1 2 3 4 5 6 7 8 9]\n",
      "[ 5  6  7  8  9 10 11 12 13 14]\n",
      "[ 1  3  5  7  9 11 13 15 17 19 21 23 25 27 29 31 33 35 37 39 41 43 45 47\n",
      " 49 51 53 55 57 59 61 63 65 67 69 71 73 75 77 79 81 83 85 87 89 91 93 95\n",
      " 97 99]\n"
     ]
    }
   ],
   "source": [
    "value = np.arange(10)\n",
    "value2 = np.arange(5, 15)\n",
    "value3 = np.arange(1, 100, 2)\n",
    "\n",
    "print(value)\n",
    "print(value2)\n",
    "print(value3)"
   ]
  },
  {
   "cell_type": "code",
   "execution_count": 12,
   "metadata": {},
   "outputs": [
    {
     "name": "stdout",
     "output_type": "stream",
     "text": [
      "30000000.0\n",
      "0 ~ 3까지 적분 결과는 = 8.999999547431766\n"
     ]
    }
   ],
   "source": [
    "dx = 0.0000001\n",
    "start = 0.0\n",
    "end = 3.0\n",
    "\n",
    "loopLen = (end - start) / dx\n",
    "print(loopLen)\n",
    "\n",
    "x = 0\n",
    "y = 0\n",
    "area = 0\n",
    "\n",
    "for i in range(int(loopLen)):\n",
    "    y = x ** 2\n",
    "    x += dx\n",
    "    area += dx * y\n",
    "print(\"0 ~ 3까지 적분 결과는 = \" + str(area))"
   ]
  },
  {
   "cell_type": "code",
   "execution_count": 28,
   "metadata": {},
   "outputs": [
    {
     "name": "stdout",
     "output_type": "stream",
     "text": [
      "8.999995500000502\n"
     ]
    }
   ],
   "source": [
    "import numpy as np\n",
    "\n",
    "dx = 0.000001\n",
    "\n",
    "def IntegralRange2(start, end):\n",
    "    curX = np.arange(start, end, dx)\n",
    "    Y = curX ** 2\n",
    "    eachBlock = Y * dx\n",
    "    area = np.sum(eachBlock)\n",
    "    return area\n",
    "\n",
    "print(IntegralRange(0, 3))"
   ]
  },
  {
   "cell_type": "code",
   "execution_count": 10,
   "metadata": {},
   "outputs": [
    {
     "name": "stdout",
     "output_type": "stream",
     "text": [
      "8.999955000050003\n"
     ]
    }
   ],
   "source": [
    "import os\n",
    "import numpy as np\n",
    "import multiprocessing\n",
    "\n",
    "dx = 0.00001\n",
    "\n",
    "def calc(x):\n",
    "    return dx * (x**2)\n",
    "\n",
    "def interalRange(start, end):\n",
    "    curX = np.arange(start, end, dx)\n",
    "    \n",
    "    p = multiprocessing.Pool()\n",
    "    res = p.map(calc, curX)\n",
    "    area = np.sum(res)\n",
    "    return area\n",
    "\n",
    "print(interalRange(0, 3))"
   ]
  },
  {
   "cell_type": "code",
   "execution_count": null,
   "metadata": {},
   "outputs": [],
   "source": []
  },
  {
   "cell_type": "code",
   "execution_count": null,
   "metadata": {},
   "outputs": [],
   "source": []
  }
 ],
 "metadata": {
  "kernelspec": {
   "display_name": "Python 3",
   "language": "python",
   "name": "python3"
  },
  "language_info": {
   "codemirror_mode": {
    "name": "ipython",
    "version": 3
   },
   "file_extension": ".py",
   "mimetype": "text/x-python",
   "name": "python",
   "nbconvert_exporter": "python",
   "pygments_lexer": "ipython3",
   "version": "3.7.6"
  }
 },
 "nbformat": 4,
 "nbformat_minor": 4
}
