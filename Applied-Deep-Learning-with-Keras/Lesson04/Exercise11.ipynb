{
 "cells": [
  {
   "cell_type": "code",
   "execution_count": 1,
   "metadata": {},
   "outputs": [
    {
     "name": "stdout",
     "output_type": "stream",
     "text": [
      "Number of Examples in the Dataset =  500\n",
      "Number of Features for each example =  2\n",
      "Output Range = [-288.225754, 271.270135]\n"
     ]
    }
   ],
   "source": [
    "# create some simulated regression data\n",
    "import numpy\n",
    "from sklearn.datasets import make_regression\n",
    "X, y = make_regression(n_samples=500, n_features=2, n_informative=2, noise=5, random_state=0)\n",
    "\n",
    "# Print the sizes of the dataset\n",
    "print(\"Number of Examples in the Dataset = \", X.shape[0])\n",
    "print(\"Number of Features for each example = \", X.shape[1])\n",
    "# print output range\n",
    "print(\"Output Range = [%f, %f]\" %(min(y), max(y)))"
   ]
  },
  {
   "cell_type": "code",
   "execution_count": 2,
   "metadata": {},
   "outputs": [
    {
     "name": "stderr",
     "output_type": "stream",
     "text": [
      "Using TensorFlow backend.\n"
     ]
    }
   ],
   "source": [
    "# step 1\n",
    "from keras.models import Sequential\n",
    "from keras.layers import Dense, Activation\n",
    "# Create the function that returns the keras model\n",
    "def build_model():\n",
    "    # build the Keras model\n",
    "    model = Sequential()\n",
    "    model.add(Dense(16, input_dim=2, activation='relu'))\n",
    "    model.add(Dense(8, activation='relu'))\n",
    "    model.add(Dense(1))\n",
    "    # Compile the model\n",
    "    model.compile(loss='mean_squared_error', optimizer='adam')\n",
    "    # return the model\n",
    "    return model"
   ]
  },
  {
   "cell_type": "code",
   "execution_count": 3,
   "metadata": {},
   "outputs": [],
   "source": [
    "# step 2\n",
    "# build the scikit-Learn interface for the keras model\n",
    "from keras.wrappers.scikit_learn import KerasRegressor\n",
    "YourModel = KerasRegressor(build_fn= build_model, epochs=300, batch_size=10, verbose=1)"
   ]
  }
 ],
 "metadata": {
  "kernelspec": {
   "display_name": "Python 3",
   "language": "python",
   "name": "python3"
  },
  "language_info": {
   "codemirror_mode": {
    "name": "ipython",
    "version": 3
   },
   "file_extension": ".py",
   "mimetype": "text/x-python",
   "name": "python",
   "nbconvert_exporter": "python",
   "pygments_lexer": "ipython3",
   "version": "3.5.5"
  }
 },
 "nbformat": 4,
 "nbformat_minor": 2
}
