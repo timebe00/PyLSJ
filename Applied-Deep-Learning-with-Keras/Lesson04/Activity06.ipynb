{
 "cells": [
  {
   "cell_type": "code",
   "execution_count": 1,
   "metadata": {},
   "outputs": [
    {
     "name": "stderr",
     "output_type": "stream",
     "text": [
      "Using TensorFlow backend.\n"
     ]
    }
   ],
   "source": [
    "# import the required packages\n",
    "from keras.models import Sequential\n",
    "from keras.layers import Dense\n",
    "from keras.wrappers.scikit_learn import KerasClassifier\n",
    "from sklearn.model_selection import StratifiedKFold\n",
    "from sklearn.model_selection import cross_val_score\n",
    "import numpy"
   ]
  },
  {
   "cell_type": "code",
   "execution_count": 2,
   "metadata": {},
   "outputs": [],
   "source": [
    "# 1\n",
    "# Load The dataset\n",
    "data = numpy.loadtxt(\"./data/pima-indians-diabetes.csv\", delimiter=\",\")\n",
    "X = data[:,0:8]\n",
    "y = data[:,8]"
   ]
  },
  {
   "cell_type": "code",
   "execution_count": 3,
   "metadata": {},
   "outputs": [],
   "source": [
    "# 2\n",
    "# Create the function that returns the keras model 1\n",
    "def build_model_1(activation='relu', optimizer='adam'):\n",
    "    # create model 1\n",
    "    model = Sequential()\n",
    "    model.add(Dense(4, input_dim=8, activation=activation))\n",
    "    model.add(Dense(4, activation=activation))\n",
    "    model.add(Dense(4, activation=activation))\n",
    "    model.add(Dense(1, activation='sigmoid'))\n",
    "    # Compile model\n",
    "    model.compile(loss='binary_crossentropy', optimizer=optimizer, metrics=['accuracy'])\n",
    "    return model\n",
    "\n",
    "# Create the function that returns the keras model 2\n",
    "def build_model_2(activation='relu', optimizer='adam'):\n",
    "    # create model 2\n",
    "    model = Sequential()\n",
    "    model.add(Dense(16, input_dim=8, activation=activation))\n",
    "    model.add(Dense(8, activation=activation))\n",
    "    model.add(Dense(1, activation='sigmoid'))\n",
    "    # Compile model\n",
    "    model.compile(loss='binary_crossentropy', optimizer=optimizer, metrics=['accuracy'])\n",
    "    return model\n",
    "\n",
    "# Create the function that returns the keras model 3\n",
    "def build_model_3(activation='relu', optimizer='adam'):\n",
    "    # create model 3\n",
    "    model = Sequential()\n",
    "    model.add(Dense(8, input_dim=8, activation=activation))\n",
    "    model.add(Dense(8, activation=activation))\n",
    "    model.add(Dense(1, activation='sigmoid'))\n",
    "    # Compile model\n",
    "    model.compile(loss='binary_crossentropy', optimizer=optimizer, metrics=['accuracy'])\n",
    "    return model"
   ]
  },
  {
   "cell_type": "code",
   "execution_count": 4,
   "metadata": {},
   "outputs": [],
   "source": [
    "# 3\n",
    "# define a seed for random number generator so the result will be reproducible\n",
    "seed = 2\n",
    "numpy.random.seed(seed)\n",
    "# determine the number of folds for k-fold cross validation, number of epochs and batch size\n",
    "n_folds = 5\n",
    "batch_size=5\n",
    "epochs=300\n",
    "# define the list to store cross validation scores\n",
    "results =[]\n",
    "# define the possible options for the model\n",
    "models = [build_model_1, build_model_2, build_model_3]\n",
    "# loop over models\n",
    "for m in range(len(models)):\n",
    "    # build the Scikit-Learn interface for the keras model\n",
    "    classifier = KerasClassifier(build_fn=models[m], epochs=epochs, batch_size=batch_size, verbose=0)\n",
    "    # define the cross validation iterator\n",
    "    kfold = StratifiedKFold(n_splits=n_folds, shuffle=True, random_state=seed)\n",
    "    # perform the k-fold cross validation and store the scores in result\n",
    "    result = cross_val_score(classifier, X, y, cv=kfold)\n",
    "    # add the scores to the results list \n",
    "    results.append(result)"
   ]
  },
  {
   "cell_type": "code",
   "execution_count": 5,
   "metadata": {},
   "outputs": [
    {
     "name": "stdout",
     "output_type": "stream",
     "text": [
      "Model 1 Test Accuracy = 0.6966556446623462\n",
      "Model 2 Test Accuracy = 0.7265087974977386\n",
      "Model 3 Test Accuracy = 0.7370257314073545\n"
     ]
    }
   ],
   "source": [
    "# 3\n",
    "# Print cross validation score for each model\n",
    "for m in range(len(models)):\n",
    "    print(\"Model\", m+1,\"Test Accuracy =\", results[m].mean())"
   ]
  },
  {
   "cell_type": "code",
   "execution_count": 6,
   "metadata": {},
   "outputs": [],
   "source": [
    "# 4\n",
    "# define a seed for random number generator so the result will be reproducible\n",
    "numpy.random.seed(seed)\n",
    "# determine the number of folds for k-fold cross validation\n",
    "n_folds = 5\n",
    "# define possible options for epochs and batch_size\n",
    "epochs = [250, 300]\n",
    "batches = [5, 10]\n",
    "# define the list to store cross validation scores\n",
    "results =[]\n",
    "# loop over all possible pairs of epochs, batch_size\n",
    "for e in range(len(epochs)):\n",
    "    for b in range(len(batches)):\n",
    "        # build the Scikit-Learn interface for the keras model\n",
    "        classifier = KerasClassifier(build_fn=build_model_3, epochs=epochs[e], batch_size=batches[b], verbose=0)\n",
    "        # define the cross validation iterator\n",
    "        kfold = StratifiedKFold(n_splits=n_folds, shuffle=True, random_state=seed)\n",
    "        # perform the k-fold cross validation. \n",
    "        # store the scores in result\n",
    "        result = cross_val_score(classifier, X, y, cv=kfold)\n",
    "        # add the scores to the results list \n",
    "        results.append(result)"
   ]
  },
  {
   "cell_type": "code",
   "execution_count": 7,
   "metadata": {},
   "outputs": [
    {
     "name": "stdout",
     "output_type": "stream",
     "text": [
      "batch_size = 5 , epochs = 250 , Test Accuracy = 0.6538409411974232\n",
      "batch_size = 10 , epochs = 250 , Test Accuracy = 0.6539088364283578\n",
      "batch_size = 5 , epochs = 300 , Test Accuracy = 0.7108904297936095\n",
      "batch_size = 10 , epochs = 300 , Test Accuracy = 0.7344792467954254\n"
     ]
    }
   ],
   "source": [
    "# 4\n",
    "# Print cross validation score for each possible pair of epochs, batch_size\n",
    "c = 0\n",
    "for e in range(len(epochs)):\n",
    "    for b in range(len(batches)):\n",
    "        print(\"batch_size =\", batches[b],\", epochs =\", epochs[e], \", Test Accuracy =\", results[c].mean())\n",
    "        c += 1"
   ]
  },
  {
   "cell_type": "code",
   "execution_count": 8,
   "metadata": {},
   "outputs": [],
   "source": [
    "# 5\n",
    "# define a seed for random number generator so the result will be reproducible\n",
    "numpy.random.seed(seed)\n",
    "# determine the number of folds for k-fold cross validation, number of epochs and batch size\n",
    "n_folds = 5\n",
    "batch_size=10\n",
    "epochs=300\n",
    "# define the list to store cross validation scores\n",
    "results =[]\n",
    "# define possible options for optimizer and activation\n",
    "optimizers = ['rmsprop', 'adam','sgd']\n",
    "activations = ['relu', 'tanh']\n",
    "# loop over all possible pairs of optimizer, activation\n",
    "for o in range(len(optimizers)):\n",
    "    for a in range(len(activations)):\n",
    "        optimizer = optimizers[o]\n",
    "        activation = activations[a]\n",
    "        # build the Scikit-Learn interface for the keras model\n",
    "        classifier = KerasClassifier(build_fn=build_model_3, epochs=epochs, batch_size=batch_size, verbose=0)\n",
    "        # define the cross validation iterator\n",
    "        kfold = StratifiedKFold(n_splits=n_folds, shuffle=True, random_state=seed)\n",
    "        # perform the k-fold cross validation. \n",
    "        # store the scores in result\n",
    "        result = cross_val_score(classifier, X, y, cv=kfold)\n",
    "        # add the scores to the results list \n",
    "        results.append(result)"
   ]
  },
  {
   "cell_type": "code",
   "execution_count": 9,
   "metadata": {},
   "outputs": [
    {
     "name": "stdout",
     "output_type": "stream",
     "text": [
      "activation =  relu , optimizer =  rmsprop , Test accuracy =  0.7265851785979585\n",
      "activation =  tanh , optimizer =  rmsprop , Test accuracy =  0.7161191768055708\n",
      "activation =  relu , optimizer =  adam , Test accuracy =  0.7188099491576996\n",
      "activation =  tanh , optimizer =  adam , Test accuracy =  0.7319157992535724\n",
      "activation =  relu , optimizer =  sgd , Test accuracy =  0.7370851354560143\n",
      "activation =  tanh , optimizer =  sgd , Test accuracy =  0.7266021576516446\n"
     ]
    }
   ],
   "source": [
    "# 5\n",
    "# Print cross validation score for each possible pair of optimizer, activation\n",
    "c = 0\n",
    "for o in range(len(optimizers)):\n",
    "    for a in range(len(activations)):\n",
    "        print(\"activation = \", activations[a],\", optimizer = \", optimizers[o], \", Test accuracy = \", results[c].mean())\n",
    "        c += 1"
   ]
  }
 ],
 "metadata": {
  "kernelspec": {
   "display_name": "Python 3",
   "language": "python",
   "name": "python3"
  },
  "language_info": {
   "codemirror_mode": {
    "name": "ipython",
    "version": 3
   },
   "file_extension": ".py",
   "mimetype": "text/x-python",
   "name": "python",
   "nbconvert_exporter": "python",
   "pygments_lexer": "ipython3",
   "version": "3.5.5"
  }
 },
 "nbformat": 4,
 "nbformat_minor": 2
}
