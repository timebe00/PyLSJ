{
 "cells": [
  {
   "cell_type": "code",
   "execution_count": 1,
   "metadata": {},
   "outputs": [],
   "source": [
    "# create some simulated classification data\n",
    "import numpy\n",
    "numpy.random.seed(1)\n",
    "from sklearn.datasets import make_classification\n",
    "X, y = make_classification(n_samples=400, n_features=10, n_classes=2)\n",
    "\n",
    "# Split the dataset into training set and test set with a 0.7-0.3 ratio\n",
    "from sklearn.model_selection import train_test_split\n",
    "X_train, X_test, y_train, y_test = train_test_split(X, y, test_size=0.3, random_state=0)"
   ]
  },
  {
   "cell_type": "code",
   "execution_count": 2,
   "metadata": {},
   "outputs": [
    {
     "name": "stderr",
     "output_type": "stream",
     "text": [
      "Using TensorFlow backend.\n"
     ]
    },
    {
     "name": "stdout",
     "output_type": "stream",
     "text": [
      "120/120 [==============================] - 0s 308us/step\n",
      "Test Loss = 0.37075048089027407\n"
     ]
    }
   ],
   "source": [
    "# 1\n",
    "#Define your model \n",
    "from keras.models import Sequential\n",
    "from keras.layers import Dense, Activation\n",
    "\n",
    "numpy.random.seed(1)\n",
    "\n",
    "model = Sequential()\n",
    "model.add(Dense(16, activation='relu', input_dim=10))\n",
    "model.add(Dense(8, activation='relu'))\n",
    "model.add(Dense(4, activation='relu'))\n",
    "model.add(Dense(1, activation='sigmoid'))\n",
    "\n",
    "# Choose the loss function to be binary cross entropy and the optimizer to be SGD for training the model\n",
    "model.compile(optimizer='sgd', loss='binary_crossentropy')\n",
    "# train the model\n",
    "model.fit(X_train, y_train, epochs=300, batch_size=5, verbose=0)\n",
    "# evaluate on test set\n",
    "print(\"Test Loss =\", model.evaluate(X_test, y_test))"
   ]
  },
  {
   "cell_type": "code",
   "execution_count": 3,
   "metadata": {},
   "outputs": [
    {
     "name": "stdout",
     "output_type": "stream",
     "text": [
      "120/120 [==============================] - 0s 492us/step\n",
      "Test Loss = 0.16076135536034902\n"
     ]
    }
   ],
   "source": [
    "# 2\n",
    "# define the keras model with dropout in the first hidden layer\n",
    "from keras.layers import Dropout\n",
    "numpy.random.seed(1)\n",
    "\n",
    "model = Sequential()\n",
    "model.add(Dense(16, activation='relu', input_dim=10))\n",
    "model.add(Dropout(0.5))\n",
    "model.add(Dense(8, activation='relu'))\n",
    "model.add(Dense(4, activation='relu'))\n",
    "model.add(Dense(1, activation='sigmoid'))\n",
    "\n",
    "# Choose the loss function to be binary cross entropy and the optimizer to be SGD for training the model\n",
    "model.compile(optimizer='sgd', loss='binary_crossentropy')\n",
    "# train the model\n",
    "model.fit(X_train, y_train, epochs=300, batch_size=5, verbose=0)\n",
    "# evaluate on test set\n",
    "print(\"Test Loss =\", model.evaluate(X_test, y_test))"
   ]
  },
  {
   "cell_type": "code",
   "execution_count": 4,
   "metadata": {},
   "outputs": [
    {
     "name": "stdout",
     "output_type": "stream",
     "text": [
      "120/120 [==============================] - 0s 650us/step\n",
      "Test Loss = 0.14980176190535227\n"
     ]
    }
   ],
   "source": [
    "# 3\n",
    "# define the keras model with dropout in all hidden layers\n",
    "numpy.random.seed(1)\n",
    "\n",
    "model = Sequential()\n",
    "model.add(Dense(16, activation='relu', input_dim=10))\n",
    "model.add(Dropout(0.5))\n",
    "model.add(Dense(8, activation='relu'))\n",
    "model.add(Dropout(0.2))\n",
    "model.add(Dense(4, activation='relu'))\n",
    "model.add(Dropout(0.2))\n",
    "model.add(Dense(1, activation='sigmoid'))\n",
    "\n",
    "# Choose the loss function to be binary cross entropy and the optimizer to be SGD for training the model\n",
    "model.compile(optimizer='sgd', loss='binary_crossentropy')\n",
    "# train the model\n",
    "model.fit(X_train, y_train, epochs=300, batch_size=5, verbose=0)\n",
    "# evaluate on test set\n",
    "print(\"Test Loss =\", model.evaluate(X_test, y_test))"
   ]
  }
 ],
 "metadata": {
  "kernelspec": {
   "display_name": "Python 3",
   "language": "python",
   "name": "python3"
  },
  "language_info": {
   "codemirror_mode": {
    "name": "ipython",
    "version": 3
   },
   "file_extension": ".py",
   "mimetype": "text/x-python",
   "name": "python",
   "nbconvert_exporter": "python",
   "pygments_lexer": "ipython3",
   "version": "3.5.5"
  }
 },
 "nbformat": 4,
 "nbformat_minor": 2
}
