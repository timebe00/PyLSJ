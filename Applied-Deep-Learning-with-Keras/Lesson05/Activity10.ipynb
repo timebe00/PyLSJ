{
 "cells": [
  {
   "cell_type": "code",
   "execution_count": 1,
   "metadata": {},
   "outputs": [],
   "source": [
    "# 1\n",
    "# Load The dataset\n",
    "import numpy\n",
    "data = numpy.loadtxt(\"./data/pima-indians-diabetes.csv\", delimiter=\",\")\n",
    "X = data[:,0:8]\n",
    "y = data[:,8]"
   ]
  },
  {
   "cell_type": "code",
   "execution_count": 2,
   "metadata": {},
   "outputs": [
    {
     "name": "stderr",
     "output_type": "stream",
     "text": [
      "Using TensorFlow backend.\n"
     ]
    }
   ],
   "source": [
    "# 2\n",
    "# Create the function that returns the keras model\n",
    "from keras.models import Sequential\n",
    "from keras.layers import Dense\n",
    "from keras.regularizers import l2\n",
    "def build_model(lambda_parameter):\n",
    "    model = Sequential()\n",
    "    model.add(Dense(8, input_dim=8, activation='relu', kernel_regularizer=l2(lambda_parameter)))\n",
    "    model.add(Dense(8, activation='relu', kernel_regularizer=l2(lambda_parameter)))\n",
    "    model.add(Dense(1, activation='sigmoid'))\n",
    "    model.compile(loss='binary_crossentropy', optimizer='sgd', metrics=['accuracy'])\n",
    "    return model"
   ]
  },
  {
   "cell_type": "code",
   "execution_count": 3,
   "metadata": {},
   "outputs": [
    {
     "name": "stderr",
     "output_type": "stream",
     "text": [
      "C:\\Users\\mahlaabdolahnejadbah\\AppData\\Local\\Continuum\\Anaconda3\\envs\\tensorflow-gpu\\lib\\site-packages\\sklearn\\model_selection\\_search.py:841: DeprecationWarning: The default of the `iid` parameter will change from True to False in version 0.22 and will be removed in 0.24. This will change numeric results when test-set sizes are unequal.\n",
      "  DeprecationWarning)\n"
     ]
    }
   ],
   "source": [
    "# 3\n",
    "from keras.wrappers.scikit_learn import KerasClassifier\n",
    "from sklearn.model_selection import GridSearchCV\n",
    "# define a seed for random number generator so the result will be reproducible\n",
    "import numpy\n",
    "seed = 1\n",
    "numpy.random.seed(seed)\n",
    "# create the Keras wrapper with scikit learn\n",
    "model = KerasClassifier(build_fn=build_model, verbose=0)\n",
    "# define all the possible values for each hyperparameter\n",
    "lambda_parameter = [0.01, 0.5, 1]\n",
    "epochs = [350, 400]\n",
    "batch_size = [10]\n",
    "# create the dictionary containing all possible values of hyperparameters\n",
    "param_grid = dict(lambda_parameter=lambda_parameter, epochs=epochs, batch_size=batch_size)\n",
    "# perform 5-fold cross validation for ??????? store the results\n",
    "grid_seach = GridSearchCV(estimator=model, param_grid=param_grid, cv=5)\n",
    "results = grid_seach.fit(X, y)"
   ]
  },
  {
   "cell_type": "code",
   "execution_count": 4,
   "metadata": {
    "scrolled": true
   },
   "outputs": [
    {
     "name": "stdout",
     "output_type": "stream",
     "text": [
      "Best cross validation score = 0.6979166676367944\n",
      "Parameters for Best cross validation scor e= {'batch_size': 10, 'epochs': 400, 'lambda_parameter': 0.01}\n",
      "Accuracy 0.669271 (std 0.044784) for params {'batch_size': 10, 'epochs': 350, 'lambda_parameter': 0.01}\n",
      "Accuracy 0.671875 (std 0.062727) for params {'batch_size': 10, 'epochs': 350, 'lambda_parameter': 0.5}\n",
      "Accuracy 0.651042 (std 0.052404) for params {'batch_size': 10, 'epochs': 350, 'lambda_parameter': 1}\n",
      "Accuracy 0.697917 (std 0.040392) for params {'batch_size': 10, 'epochs': 400, 'lambda_parameter': 0.01}\n",
      "Accuracy 0.674479 (std 0.042581) for params {'batch_size': 10, 'epochs': 400, 'lambda_parameter': 0.5}\n",
      "Accuracy 0.652344 (std 0.014675) for params {'batch_size': 10, 'epochs': 400, 'lambda_parameter': 1}\n"
     ]
    }
   ],
   "source": [
    "# 3\n",
    "# print the results for best cross validation score\n",
    "print(\"Best cross validation score =\", results.best_score_)\n",
    "print(\"Parameters for Best cross validation scor e=\", results.best_params_)\n",
    "\n",
    "# print the results for all evaluated hyperparameter combinations\n",
    "accuracy_means = results.cv_results_['mean_test_score']\n",
    "accuracy_stds = results.cv_results_['std_test_score']\n",
    "parameters = results.cv_results_['params']\n",
    "for p in range(len(parameters)):\n",
    "    print(\"Accuracy %f (std %f) for params %r\" % (accuracy_means[p], accuracy_stds[p], parameters[p]))"
   ]
  },
  {
   "cell_type": "code",
   "execution_count": 5,
   "metadata": {},
   "outputs": [
    {
     "name": "stderr",
     "output_type": "stream",
     "text": [
      "C:\\Users\\mahlaabdolahnejadbah\\AppData\\Local\\Continuum\\Anaconda3\\envs\\tensorflow-gpu\\lib\\site-packages\\sklearn\\model_selection\\_search.py:841: DeprecationWarning: The default of the `iid` parameter will change from True to False in version 0.22 and will be removed in 0.24. This will change numeric results when test-set sizes are unequal.\n",
      "  DeprecationWarning)\n"
     ]
    }
   ],
   "source": [
    "# 4\n",
    "# define a seed for random number generator so the result will be reproducible\n",
    "numpy.random.seed(seed)\n",
    "# create the Keras wrapper with scikit learn\n",
    "model = KerasClassifier(build_fn=build_model, verbose=0)\n",
    "# define all the possible values for each hyperparameter\n",
    "lambda_parameter = [0.001, 0.01, 0.05, 0.1]\n",
    "epochs = [400]\n",
    "batch_size = [10]\n",
    "# create the dictionary containing all possible values of hyperparameters\n",
    "param_grid = dict(lambda_parameter=lambda_parameter, epochs=epochs, batch_size=batch_size)\n",
    "# search the grid, perform 5-fold cross validation for each possible combination, store the results\n",
    "grid_seach = GridSearchCV(estimator=model, param_grid=param_grid, cv=5)\n",
    "results = grid_seach.fit(X, y)"
   ]
  },
  {
   "cell_type": "code",
   "execution_count": 6,
   "metadata": {},
   "outputs": [
    {
     "name": "stdout",
     "output_type": "stream",
     "text": [
      "Best cross validation score = 0.704427085390004\n",
      "Parameters for Best cross validation score = {'batch_size': 10, 'epochs': 400, 'lambda_parameter': 0.05}\n",
      "Accuracy 0.671875 (std 0.041515) for params {'batch_size': 10, 'epochs': 400, 'lambda_parameter': 0.001}\n",
      "Accuracy 0.697917 (std 0.042438) for params {'batch_size': 10, 'epochs': 400, 'lambda_parameter': 0.01}\n",
      "Accuracy 0.704427 (std 0.027547) for params {'batch_size': 10, 'epochs': 400, 'lambda_parameter': 0.05}\n",
      "Accuracy 0.664063 (std 0.091266) for params {'batch_size': 10, 'epochs': 400, 'lambda_parameter': 0.1}\n"
     ]
    }
   ],
   "source": [
    "# 4\n",
    "# print the results for best cross validation score\n",
    "print(\"Best cross validation score =\", results.best_score_)\n",
    "print(\"Parameters for Best cross validation score =\", results.best_params_)\n",
    "\n",
    "# print the results for the entire grid\n",
    "accuracy_means = results.cv_results_['mean_test_score']\n",
    "accuracy_stds = results.cv_results_['std_test_score']\n",
    "parameters = results.cv_results_['params']\n",
    "for p in range(len(parameters)):\n",
    "    print(\"Accuracy %f (std %f) for params %r\" % (accuracy_means[p], accuracy_stds[p], parameters[p]))"
   ]
  },
  {
   "cell_type": "code",
   "execution_count": 7,
   "metadata": {},
   "outputs": [],
   "source": [
    "# 5\n",
    "# Create the function that returns the keras model\n",
    "from keras.layers import Dropout\n",
    "def build_model(rate):\n",
    "    model = Sequential()\n",
    "    model.add(Dense(8, activation='relu'))\n",
    "    model.add(Dropout(rate))\n",
    "    model.add(Dense(8, activation='relu'))\n",
    "    model.add(Dropout(rate))\n",
    "    model.add(Dense(1, activation='sigmoid'))\n",
    "    model.compile(loss='binary_crossentropy', optimizer='sgd', metrics=['accuracy'])\n",
    "    return model"
   ]
  },
  {
   "cell_type": "code",
   "execution_count": 8,
   "metadata": {},
   "outputs": [],
   "source": [
    "# 5\n",
    "# define a seed for random number generator so the result will be reproducible\n",
    "numpy.random.seed(seed)\n",
    "# create the Keras wrapper with scikit learn\n",
    "model = KerasClassifier(build_fn=build_model, verbose=0)\n",
    "# define all the possible values for each hyperparameter\n",
    "rate = [0, 0.2, 0.4]\n",
    "epochs = [350, 400]\n",
    "batch_size = [10]\n",
    "# create the dictionary containing all possible values of hyperparameters\n",
    "param_grid = dict(rate=rate, epochs=epochs, batch_size=batch_size)\n",
    "# perform 5-fold cross validation for 10 randomly selected combinations, store the results\n",
    "grid_seach = GridSearchCV(estimator=model, param_grid=param_grid, cv=5)\n",
    "results = grid_seach.fit(X, y)"
   ]
  },
  {
   "cell_type": "code",
   "execution_count": 9,
   "metadata": {},
   "outputs": [
    {
     "name": "stdout",
     "output_type": "stream",
     "text": [
      "Best cross validation score= 0.6901041681024557\n",
      "Parameters for Best cross validation score= {'batch_size': 10, 'epochs': 400, 'rate': 0}\n",
      "Accuracy 0.592448 (std 0.130434) for params {'batch_size': 10, 'epochs': 350, 'rate': 0}\n",
      "Accuracy 0.666667 (std 0.053115) for params {'batch_size': 10, 'epochs': 350, 'rate': 0.2}\n",
      "Accuracy 0.601563 (std 0.141879) for params {'batch_size': 10, 'epochs': 350, 'rate': 0.4}\n",
      "Accuracy 0.690104 (std 0.040916) for params {'batch_size': 10, 'epochs': 400, 'rate': 0}\n",
      "Accuracy 0.669271 (std 0.041091) for params {'batch_size': 10, 'epochs': 400, 'rate': 0.2}\n",
      "Accuracy 0.653646 (std 0.052577) for params {'batch_size': 10, 'epochs': 400, 'rate': 0.4}\n"
     ]
    }
   ],
   "source": [
    "# 5\n",
    "# print the results for best cross validation score\n",
    "print(\"Best cross validation score=\", results.best_score_)\n",
    "print(\"Parameters for Best cross validation score=\", results.best_params_)\n",
    "\n",
    "# print the results for the entire grid\n",
    "accuracy_means = results.cv_results_['mean_test_score']\n",
    "accuracy_stds = results.cv_results_['std_test_score']\n",
    "parameters = results.cv_results_['params']\n",
    "for p in range(len(parameters)):\n",
    "    print(\"Accuracy %f (std %f) for params %r\" % (accuracy_means[p], accuracy_stds[p], parameters[p]))"
   ]
  },
  {
   "cell_type": "code",
   "execution_count": 10,
   "metadata": {},
   "outputs": [],
   "source": [
    "# 6\n",
    "# define a seed for random number generator so the result will be reproducible\n",
    "numpy.random.seed(seed)\n",
    "# create the Keras wrapper with scikit learn\n",
    "model = KerasClassifier(build_fn=build_model, verbose=0)\n",
    "# define all the possible values for each hyperparameter\n",
    "rate = [0.0, 0.05, 0.1]\n",
    "epochs = [400]\n",
    "batch_size = [10]\n",
    "# create the dictionary containing all possible values of hyperparameters\n",
    "param_grid = dict(rate=rate, epochs=epochs, batch_size=batch_size)\n",
    "# perform 5-fold cross validation for 10 randomly selected combinations, store the results\n",
    "grid_seach = GridSearchCV(estimator=model, param_grid=param_grid, cv=5)\n",
    "results = grid_seach.fit(X, y)"
   ]
  },
  {
   "cell_type": "code",
   "execution_count": 11,
   "metadata": {},
   "outputs": [
    {
     "name": "stdout",
     "output_type": "stream",
     "text": [
      "Best cross validation score= 0.6822916691501936\n",
      "Parameters for Best cross validation score= {'batch_size': 10, 'epochs': 400, 'rate': 0.0}\n",
      "Accuracy 0.682292 (std 0.056231) for params {'batch_size': 10, 'epochs': 400, 'rate': 0.0}\n",
      "Accuracy 0.682292 (std 0.057025) for params {'batch_size': 10, 'epochs': 400, 'rate': 0.05}\n",
      "Accuracy 0.673177 (std 0.059715) for params {'batch_size': 10, 'epochs': 400, 'rate': 0.1}\n"
     ]
    }
   ],
   "source": [
    "# 6\n",
    "# print the results for best cross validation score\n",
    "print(\"Best cross validation score=\", results.best_score_)\n",
    "print(\"Parameters for Best cross validation score=\", results.best_params_)\n",
    "\n",
    "# print the results for the entire grid\n",
    "accuracy_means = results.cv_results_['mean_test_score']\n",
    "accuracy_stds = results.cv_results_['std_test_score']\n",
    "parameters = results.cv_results_['params']\n",
    "for p in range(len(parameters)):\n",
    "    print(\"Accuracy %f (std %f) for params %r\" % (accuracy_means[p], accuracy_stds[p], parameters[p]))"
   ]
  }
 ],
 "metadata": {
  "kernelspec": {
   "display_name": "Python 3",
   "language": "python",
   "name": "python3"
  },
  "language_info": {
   "codemirror_mode": {
    "name": "ipython",
    "version": 3
   },
   "file_extension": ".py",
   "mimetype": "text/x-python",
   "name": "python",
   "nbconvert_exporter": "python",
   "pygments_lexer": "ipython3",
   "version": "3.5.5"
  }
 },
 "nbformat": 4,
 "nbformat_minor": 2
}
