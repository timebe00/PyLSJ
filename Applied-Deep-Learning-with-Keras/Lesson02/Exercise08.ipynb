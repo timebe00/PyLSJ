{
 "cells": [
  {
   "cell_type": "markdown",
   "metadata": {},
   "source": [
    "# Exercise 3\n",
    "\n",
    "In this exercise we are going to perform some matrix multiplication."
   ]
  },
  {
   "cell_type": "markdown",
   "metadata": {},
   "source": [
    "## Matrix Multiplication\n",
    "\n",
    "In linear algebra, when multiplying two matrices, the number of *columns* of the first matrix must\n",
    "equal the number of *rows* in the second matrix. The inner dimensions must match.\n",
    "\n",
    "- It is **_valid_** to multiply a `3x4` matrix by a `4x3` matrix. (`3x4`) $\\times$ (`4x3`) - The inner dimesion, 4, matches.\n",
    "- It is **_invalid_** to multiply a `3x4` matrix by a `3x4` matrix. (`3x4`) $\\times$ (`3x4`) - The inner dimesion, 4 and 3, does not match.\n",
    "\n",
    "The resulting matrix will have the same number of rows as the first matrix and the same number of columns as the second matrix. Or the outer dimensions of the multiplication."
   ]
  },
  {
   "cell_type": "markdown",
   "metadata": {},
   "source": [
    "Let's recreate 2 matrices of the same size to work with"
   ]
  },
  {
   "cell_type": "code",
   "execution_count": 1,
   "metadata": {},
   "outputs": [
    {
     "data": {
      "text/plain": [
       "array([[ 1,  2,  3],\n",
       "       [ 4,  5,  6],\n",
       "       [ 7,  8,  9],\n",
       "       [10, 11, 12]])"
      ]
     },
     "execution_count": 1,
     "metadata": {},
     "output_type": "execute_result"
    }
   ],
   "source": [
    "import numpy as np\n",
    "mat1 = np.array([[1, 2, 3], [4, 5, 6], [7, 8, 9], [10, 11, 12]])\n",
    "mat1"
   ]
  },
  {
   "cell_type": "code",
   "execution_count": 2,
   "metadata": {},
   "outputs": [
    {
     "data": {
      "text/plain": [
       "array([[ 2,  1,  4],\n",
       "       [ 4,  1,  7],\n",
       "       [ 4,  2,  9],\n",
       "       [ 5, 21,  1]])"
      ]
     },
     "execution_count": 2,
     "metadata": {},
     "output_type": "execute_result"
    }
   ],
   "source": [
    "mat2 = np.array([[2, 1, 4], [4, 1, 7], [4, 2, 9], [5, 21, 1]])\n",
    "mat2"
   ]
  },
  {
   "cell_type": "markdown",
   "metadata": {},
   "source": [
    "We can take a looks at the shape of the matrices"
   ]
  },
  {
   "cell_type": "code",
   "execution_count": 3,
   "metadata": {},
   "outputs": [
    {
     "data": {
      "text/plain": [
       "(4, 3)"
      ]
     },
     "execution_count": 3,
     "metadata": {},
     "output_type": "execute_result"
    }
   ],
   "source": [
    "mat1.shape"
   ]
  },
  {
   "cell_type": "code",
   "execution_count": 4,
   "metadata": {},
   "outputs": [
    {
     "data": {
      "text/plain": [
       "(4, 3)"
      ]
     },
     "execution_count": 4,
     "metadata": {},
     "output_type": "execute_result"
    }
   ],
   "source": [
    "mat2.shape"
   ]
  },
  {
   "cell_type": "markdown",
   "metadata": {},
   "source": [
    "These matrices won't multiply because the inner dimensions do not match -- (`4x3`) $\\times$ (`4x3`)\n",
    "\n",
    "In order for these to multiply correctly we can either reshape or transpose one of the matrices such that the inner dimensions match.\n",
    "\n",
    "If we transpose the second matrix in the product we will have (`4x3`) $\\times$ (`4x3`)$^T$ = (`4x3`) $\\times$ (`3x4`)\n",
    "The resulting matrix will be (`4x4`).\n",
    "\n",
    "Let's try that."
   ]
  },
  {
   "cell_type": "code",
   "execution_count": 5,
   "metadata": {},
   "outputs": [
    {
     "data": {
      "text/plain": [
       "array([[ 16,  27,  35,  50],\n",
       "       [ 37,  63,  80, 131],\n",
       "       [ 58,  99, 125, 212],\n",
       "       [ 79, 135, 170, 293]])"
      ]
     },
     "execution_count": 5,
     "metadata": {},
     "output_type": "execute_result"
    }
   ],
   "source": [
    "mat1.dot(mat2.T)"
   ]
  },
  {
   "cell_type": "markdown",
   "metadata": {},
   "source": [
    "If we transpose the first matrix in the product we will have (`4x3`)$^T$ $\\times$ (`4x3`) = (`3x4`) $\\times$ (`4x3`)\n",
    "The resulting matrix will be (`3x3`).\n",
    "\n",
    "Let's try that."
   ]
  },
  {
   "cell_type": "code",
   "execution_count": 6,
   "metadata": {},
   "outputs": [
    {
     "data": {
      "text/plain": [
       "array([[ 96, 229, 105],\n",
       "       [111, 254, 126],\n",
       "       [126, 279, 147]])"
      ]
     },
     "execution_count": 6,
     "metadata": {},
     "output_type": "execute_result"
    }
   ],
   "source": [
    "mat1.T.dot(mat2)"
   ]
  },
  {
   "cell_type": "markdown",
   "metadata": {
    "collapsed": true
   },
   "source": [
    "We can also reshape one of the matrices so that the inner dimensions of the matrix product match."
   ]
  },
  {
   "cell_type": "code",
   "execution_count": 7,
   "metadata": {},
   "outputs": [
    {
     "data": {
      "text/plain": [
       "array([[ 42,  93,  49],\n",
       "       [102, 193, 133],\n",
       "       [162, 293, 217]])"
      ]
     },
     "execution_count": 7,
     "metadata": {},
     "output_type": "execute_result"
    }
   ],
   "source": [
    "np.reshape(mat1, [3,4]).dot(mat2)"
   ]
  },
  {
   "cell_type": "markdown",
   "metadata": {},
   "source": [
    "This worked, producing a (`3x3`) matrix."
   ]
  }
 ],
 "metadata": {
  "kernelspec": {
   "display_name": "Python 3",
   "language": "python",
   "name": "python3"
  },
  "language_info": {
   "codemirror_mode": {
    "name": "ipython",
    "version": 3
   },
   "file_extension": ".py",
   "mimetype": "text/x-python",
   "name": "python",
   "nbconvert_exporter": "python",
   "pygments_lexer": "ipython3",
   "version": "3.6.1"
  }
 },
 "nbformat": 4,
 "nbformat_minor": 2
}
