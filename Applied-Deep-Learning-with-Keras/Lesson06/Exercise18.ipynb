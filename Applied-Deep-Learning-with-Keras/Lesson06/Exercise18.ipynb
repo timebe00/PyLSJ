{
 "cells": [
  {
   "cell_type": "markdown",
   "metadata": {},
   "source": [
    "##  Run Activity 1 "
   ]
  },
  {
   "cell_type": "code",
   "execution_count": 1,
   "metadata": {},
   "outputs": [
    {
     "name": "stderr",
     "output_type": "stream",
     "text": [
      "C:\\Users\\Ritesh\\Anaconda3\\lib\\site-packages\\sklearn\\preprocessing\\data.py:645: DataConversionWarning: Data with input dtype uint8, int64 were all converted to float64 by StandardScaler.\n",
      "  return self.partial_fit(X, y)\n",
      "C:\\Users\\Ritesh\\Anaconda3\\lib\\site-packages\\sklearn\\base.py:464: DataConversionWarning: Data with input dtype uint8, int64 were all converted to float64 by StandardScaler.\n",
      "  return self.fit(X, **fit_params).transform(X)\n",
      "C:\\Users\\Ritesh\\Anaconda3\\lib\\site-packages\\ipykernel_launcher.py:57: DataConversionWarning: Data with input dtype uint8, int64 were all converted to float64 by StandardScaler.\n",
      "Using TensorFlow backend.\n"
     ]
    },
    {
     "name": "stdout",
     "output_type": "stream",
     "text": [
      "WARNING:tensorflow:From C:\\Users\\Ritesh\\Anaconda3\\lib\\site-packages\\tensorflow\\python\\framework\\op_def_library.py:263: colocate_with (from tensorflow.python.framework.ops) is deprecated and will be removed in a future version.\n",
      "Instructions for updating:\n",
      "Colocations handled automatically by placer.\n",
      "WARNING:tensorflow:From C:\\Users\\Ritesh\\Anaconda3\\lib\\site-packages\\keras\\backend\\tensorflow_backend.py:3445: calling dropout (from tensorflow.python.ops.nn_ops) with keep_prob is deprecated and will be removed in a future version.\n",
      "Instructions for updating:\n",
      "Please use `rate` instead of `keep_prob`. Rate should be set to `rate = 1 - keep_prob`.\n",
      "WARNING:tensorflow:From C:\\Users\\Ritesh\\Anaconda3\\lib\\site-packages\\tensorflow\\python\\ops\\math_ops.py:3066: to_int32 (from tensorflow.python.ops.math_ops) is deprecated and will be removed in a future version.\n",
      "Instructions for updating:\n",
      "Use tf.cast instead.\n",
      "Epoch 1/200\n",
      "249/249 [==============================] - 0s 1ms/step - loss: 0.6913 - acc: 0.7390\n",
      "Epoch 2/200\n",
      "249/249 [==============================] - 0s 68us/step - loss: 0.6861 - acc: 0.7871\n",
      "Epoch 3/200\n",
      "249/249 [==============================] - 0s 60us/step - loss: 0.6806 - acc: 0.7912\n",
      "Epoch 4/200\n",
      "249/249 [==============================] - 0s 68us/step - loss: 0.6741 - acc: 0.7912\n",
      "Epoch 5/200\n",
      "249/249 [==============================] - 0s 84us/step - loss: 0.6674 - acc: 0.7912\n",
      "Epoch 6/200\n",
      "249/249 [==============================] - 0s 68us/step - loss: 0.6540 - acc: 0.7912\n",
      "Epoch 7/200\n",
      "249/249 [==============================] - 0s 76us/step - loss: 0.6469 - acc: 0.7912\n",
      "Epoch 8/200\n",
      "249/249 [==============================] - 0s 108us/step - loss: 0.6309 - acc: 0.7912\n",
      "Epoch 9/200\n",
      "249/249 [==============================] - 0s 80us/step - loss: 0.6309 - acc: 0.7912\n",
      "Epoch 10/200\n",
      "249/249 [==============================] - 0s 80us/step - loss: 0.6258 - acc: 0.7912\n",
      "Epoch 11/200\n",
      "249/249 [==============================] - 0s 72us/step - loss: 0.6068 - acc: 0.7912\n",
      "Epoch 12/200\n",
      "249/249 [==============================] - 0s 64us/step - loss: 0.6066 - acc: 0.7912\n",
      "Epoch 13/200\n",
      "249/249 [==============================] - 0s 68us/step - loss: 0.5928 - acc: 0.7912\n",
      "Epoch 14/200\n",
      "249/249 [==============================] - 0s 84us/step - loss: 0.5783 - acc: 0.7912\n",
      "Epoch 15/200\n",
      "249/249 [==============================] - 0s 72us/step - loss: 0.5726 - acc: 0.7912\n",
      "Epoch 16/200\n",
      "249/249 [==============================] - 0s 84us/step - loss: 0.5672 - acc: 0.7912\n",
      "Epoch 17/200\n",
      "249/249 [==============================] - 0s 72us/step - loss: 0.5625 - acc: 0.7912\n",
      "Epoch 18/200\n",
      "249/249 [==============================] - 0s 72us/step - loss: 0.5477 - acc: 0.7912\n",
      "Epoch 19/200\n",
      "249/249 [==============================] - 0s 64us/step - loss: 0.5484 - acc: 0.7912\n",
      "Epoch 20/200\n",
      "249/249 [==============================] - 0s 76us/step - loss: 0.5311 - acc: 0.7912\n",
      "Epoch 21/200\n",
      "249/249 [==============================] - 0s 72us/step - loss: 0.5220 - acc: 0.7912\n",
      "Epoch 22/200\n",
      "249/249 [==============================] - 0s 60us/step - loss: 0.5193 - acc: 0.7912\n",
      "Epoch 23/200\n",
      "249/249 [==============================] - 0s 72us/step - loss: 0.5018 - acc: 0.7912\n",
      "Epoch 24/200\n",
      "249/249 [==============================] - 0s 60us/step - loss: 0.5102 - acc: 0.7912\n",
      "Epoch 25/200\n",
      "249/249 [==============================] - 0s 52us/step - loss: 0.5111 - acc: 0.7912\n",
      "Epoch 26/200\n",
      "249/249 [==============================] - 0s 64us/step - loss: 0.5074 - acc: 0.7912\n",
      "Epoch 27/200\n",
      "249/249 [==============================] - 0s 68us/step - loss: 0.4901 - acc: 0.7912\n",
      "Epoch 28/200\n",
      "249/249 [==============================] - 0s 76us/step - loss: 0.5216 - acc: 0.7912\n",
      "Epoch 29/200\n",
      "249/249 [==============================] - 0s 56us/step - loss: 0.4859 - acc: 0.7912\n",
      "Epoch 30/200\n",
      "249/249 [==============================] - 0s 52us/step - loss: 0.5232 - acc: 0.7912\n",
      "Epoch 31/200\n",
      "249/249 [==============================] - 0s 68us/step - loss: 0.4849 - acc: 0.7912\n",
      "Epoch 32/200\n",
      "249/249 [==============================] - 0s 48us/step - loss: 0.4996 - acc: 0.7912\n",
      "Epoch 33/200\n",
      "249/249 [==============================] - 0s 64us/step - loss: 0.4755 - acc: 0.7912\n",
      "Epoch 34/200\n",
      "249/249 [==============================] - 0s 64us/step - loss: 0.4890 - acc: 0.7912\n",
      "Epoch 35/200\n",
      "249/249 [==============================] - 0s 52us/step - loss: 0.4965 - acc: 0.7912\n",
      "Epoch 36/200\n",
      "249/249 [==============================] - 0s 68us/step - loss: 0.4812 - acc: 0.7912\n",
      "Epoch 37/200\n",
      "249/249 [==============================] - 0s 52us/step - loss: 0.4863 - acc: 0.7912\n",
      "Epoch 38/200\n",
      "249/249 [==============================] - 0s 68us/step - loss: 0.4987 - acc: 0.7912\n",
      "Epoch 39/200\n",
      "249/249 [==============================] - 0s 52us/step - loss: 0.4878 - acc: 0.7912\n",
      "Epoch 40/200\n",
      "249/249 [==============================] - 0s 52us/step - loss: 0.4964 - acc: 0.7912\n",
      "Epoch 41/200\n",
      "249/249 [==============================] - 0s 56us/step - loss: 0.4918 - acc: 0.7912\n",
      "Epoch 42/200\n",
      "249/249 [==============================] - 0s 64us/step - loss: 0.4954 - acc: 0.7912\n",
      "Epoch 43/200\n",
      "249/249 [==============================] - 0s 52us/step - loss: 0.4795 - acc: 0.7912\n",
      "Epoch 44/200\n",
      "249/249 [==============================] - 0s 68us/step - loss: 0.4788 - acc: 0.7912\n",
      "Epoch 45/200\n",
      "249/249 [==============================] - 0s 64us/step - loss: 0.4797 - acc: 0.7912\n",
      "Epoch 46/200\n",
      "249/249 [==============================] - 0s 60us/step - loss: 0.4981 - acc: 0.7912\n",
      "Epoch 47/200\n",
      "249/249 [==============================] - 0s 60us/step - loss: 0.4995 - acc: 0.7912\n",
      "Epoch 48/200\n",
      "249/249 [==============================] - 0s 76us/step - loss: 0.4741 - acc: 0.7912\n",
      "Epoch 49/200\n",
      "249/249 [==============================] - 0s 64us/step - loss: 0.4780 - acc: 0.7912\n",
      "Epoch 50/200\n",
      "249/249 [==============================] - 0s 48us/step - loss: 0.4842 - acc: 0.7912\n",
      "Epoch 51/200\n",
      "249/249 [==============================] - 0s 64us/step - loss: 0.4979 - acc: 0.7912\n",
      "Epoch 52/200\n",
      "249/249 [==============================] - 0s 60us/step - loss: 0.4786 - acc: 0.7912\n",
      "Epoch 53/200\n",
      "249/249 [==============================] - 0s 68us/step - loss: 0.4866 - acc: 0.7912\n",
      "Epoch 54/200\n",
      "249/249 [==============================] - 0s 48us/step - loss: 0.4712 - acc: 0.7912\n",
      "Epoch 55/200\n",
      "249/249 [==============================] - 0s 60us/step - loss: 0.4695 - acc: 0.7912\n",
      "Epoch 56/200\n",
      "249/249 [==============================] - 0s 64us/step - loss: 0.4710 - acc: 0.7912\n",
      "Epoch 57/200\n",
      "249/249 [==============================] - 0s 56us/step - loss: 0.4914 - acc: 0.7912\n",
      "Epoch 58/200\n",
      "249/249 [==============================] - 0s 64us/step - loss: 0.4818 - acc: 0.7912\n",
      "Epoch 59/200\n",
      "249/249 [==============================] - 0s 48us/step - loss: 0.4844 - acc: 0.7912\n",
      "Epoch 60/200\n",
      "249/249 [==============================] - 0s 64us/step - loss: 0.4638 - acc: 0.7912\n",
      "Epoch 61/200\n",
      "249/249 [==============================] - 0s 60us/step - loss: 0.4822 - acc: 0.7912\n",
      "Epoch 62/200\n",
      "249/249 [==============================] - 0s 48us/step - loss: 0.4715 - acc: 0.7912\n",
      "Epoch 63/200\n",
      "249/249 [==============================] - 0s 64us/step - loss: 0.4758 - acc: 0.7912\n",
      "Epoch 64/200\n",
      "249/249 [==============================] - 0s 60us/step - loss: 0.4786 - acc: 0.7912\n",
      "Epoch 65/200\n",
      "249/249 [==============================] - 0s 48us/step - loss: 0.4899 - acc: 0.7912\n",
      "Epoch 66/200\n",
      "249/249 [==============================] - 0s 56us/step - loss: 0.4797 - acc: 0.7912\n",
      "Epoch 67/200\n",
      "249/249 [==============================] - 0s 48us/step - loss: 0.4615 - acc: 0.7912\n",
      "Epoch 68/200\n",
      "249/249 [==============================] - 0s 60us/step - loss: 0.4612 - acc: 0.7912\n",
      "Epoch 69/200\n",
      "249/249 [==============================] - 0s 52us/step - loss: 0.4634 - acc: 0.7912\n",
      "Epoch 70/200\n",
      "249/249 [==============================] - 0s 60us/step - loss: 0.4639 - acc: 0.7912\n",
      "Epoch 71/200\n",
      "249/249 [==============================] - 0s 48us/step - loss: 0.4800 - acc: 0.7912\n",
      "Epoch 72/200\n",
      "249/249 [==============================] - 0s 60us/step - loss: 0.4738 - acc: 0.7912\n",
      "Epoch 73/200\n",
      "249/249 [==============================] - 0s 48us/step - loss: 0.4579 - acc: 0.7912\n",
      "Epoch 74/200\n",
      "249/249 [==============================] - 0s 64us/step - loss: 0.4828 - acc: 0.7912\n",
      "Epoch 75/200\n"
     ]
    },
    {
     "name": "stdout",
     "output_type": "stream",
     "text": [
      "249/249 [==============================] - 0s 48us/step - loss: 0.4560 - acc: 0.7912\n",
      "Epoch 76/200\n",
      "249/249 [==============================] - 0s 60us/step - loss: 0.4772 - acc: 0.7912\n",
      "Epoch 77/200\n",
      "249/249 [==============================] - 0s 64us/step - loss: 0.4896 - acc: 0.7912\n",
      "Epoch 78/200\n",
      "249/249 [==============================] - 0s 48us/step - loss: 0.4672 - acc: 0.7912\n",
      "Epoch 79/200\n",
      "249/249 [==============================] - 0s 60us/step - loss: 0.4657 - acc: 0.7912\n",
      "Epoch 80/200\n",
      "249/249 [==============================] - 0s 60us/step - loss: 0.4849 - acc: 0.7912\n",
      "Epoch 81/200\n",
      "249/249 [==============================] - 0s 60us/step - loss: 0.4577 - acc: 0.7912\n",
      "Epoch 82/200\n",
      "249/249 [==============================] - 0s 52us/step - loss: 0.4673 - acc: 0.7912\n",
      "Epoch 83/200\n",
      "249/249 [==============================] - 0s 52us/step - loss: 0.4772 - acc: 0.7912\n",
      "Epoch 84/200\n",
      "249/249 [==============================] - 0s 56us/step - loss: 0.4623 - acc: 0.7912\n",
      "Epoch 85/200\n",
      "249/249 [==============================] - 0s 56us/step - loss: 0.4609 - acc: 0.7912\n",
      "Epoch 86/200\n",
      "249/249 [==============================] - 0s 56us/step - loss: 0.4698 - acc: 0.7912\n",
      "Epoch 87/200\n",
      "249/249 [==============================] - 0s 56us/step - loss: 0.4475 - acc: 0.7912\n",
      "Epoch 88/200\n",
      "249/249 [==============================] - 0s 52us/step - loss: 0.4812 - acc: 0.7912\n",
      "Epoch 89/200\n",
      "249/249 [==============================] - 0s 56us/step - loss: 0.4590 - acc: 0.7912\n",
      "Epoch 90/200\n",
      "249/249 [==============================] - ETA: 0s - loss: 0.2436 - acc: 0.950 - 0s 56us/step - loss: 0.4615 - acc: 0.7912\n",
      "Epoch 91/200\n",
      "249/249 [==============================] - 0s 60us/step - loss: 0.4727 - acc: 0.7912\n",
      "Epoch 92/200\n",
      "249/249 [==============================] - 0s 64us/step - loss: 0.4498 - acc: 0.7912\n",
      "Epoch 93/200\n",
      "249/249 [==============================] - 0s 56us/step - loss: 0.4600 - acc: 0.7912\n",
      "Epoch 94/200\n",
      "249/249 [==============================] - 0s 60us/step - loss: 0.4565 - acc: 0.7912\n",
      "Epoch 95/200\n",
      "249/249 [==============================] - 0s 52us/step - loss: 0.4748 - acc: 0.7912\n",
      "Epoch 96/200\n",
      "249/249 [==============================] - 0s 60us/step - loss: 0.4769 - acc: 0.7912\n",
      "Epoch 97/200\n",
      "249/249 [==============================] - ETA: 0s - loss: 0.3686 - acc: 0.800 - 0s 52us/step - loss: 0.4809 - acc: 0.7912\n",
      "Epoch 98/200\n",
      "249/249 [==============================] - 0s 56us/step - loss: 0.4532 - acc: 0.7912\n",
      "Epoch 99/200\n",
      "249/249 [==============================] - 0s 60us/step - loss: 0.4555 - acc: 0.7912\n",
      "Epoch 100/200\n",
      "249/249 [==============================] - 0s 52us/step - loss: 0.4550 - acc: 0.7912\n",
      "Epoch 101/200\n",
      "249/249 [==============================] - 0s 64us/step - loss: 0.4632 - acc: 0.7912\n",
      "Epoch 102/200\n",
      "249/249 [==============================] - 0s 60us/step - loss: 0.4515 - acc: 0.7912\n",
      "Epoch 103/200\n",
      "249/249 [==============================] - 0s 56us/step - loss: 0.4457 - acc: 0.7912\n",
      "Epoch 104/200\n",
      "249/249 [==============================] - 0s 56us/step - loss: 0.4409 - acc: 0.7912\n",
      "Epoch 105/200\n",
      "249/249 [==============================] - 0s 64us/step - loss: 0.4451 - acc: 0.7912\n",
      "Epoch 106/200\n",
      "249/249 [==============================] - 0s 60us/step - loss: 0.4732 - acc: 0.7912\n",
      "Epoch 107/200\n",
      "249/249 [==============================] - 0s 60us/step - loss: 0.4629 - acc: 0.7912\n",
      "Epoch 108/200\n",
      "249/249 [==============================] - 0s 64us/step - loss: 0.4601 - acc: 0.7912\n",
      "Epoch 109/200\n",
      "249/249 [==============================] - 0s 56us/step - loss: 0.4681 - acc: 0.7912\n",
      "Epoch 110/200\n",
      "249/249 [==============================] - 0s 64us/step - loss: 0.4469 - acc: 0.7912\n",
      "Epoch 111/200\n",
      "249/249 [==============================] - 0s 76us/step - loss: 0.4363 - acc: 0.7912\n",
      "Epoch 112/200\n",
      "249/249 [==============================] - 0s 56us/step - loss: 0.4489 - acc: 0.7912\n",
      "Epoch 113/200\n",
      "249/249 [==============================] - 0s 60us/step - loss: 0.4539 - acc: 0.7912\n",
      "Epoch 114/200\n",
      "249/249 [==============================] - ETA: 0s - loss: 0.5136 - acc: 0.750 - 0s 60us/step - loss: 0.4361 - acc: 0.7912\n",
      "Epoch 115/200\n",
      "249/249 [==============================] - 0s 64us/step - loss: 0.4361 - acc: 0.7912\n",
      "Epoch 116/200\n",
      "249/249 [==============================] - 0s 60us/step - loss: 0.4385 - acc: 0.7912\n",
      "Epoch 117/200\n",
      "249/249 [==============================] - 0s 64us/step - loss: 0.4455 - acc: 0.7912\n",
      "Epoch 118/200\n",
      "249/249 [==============================] - 0s 60us/step - loss: 0.4490 - acc: 0.7912\n",
      "Epoch 119/200\n",
      "249/249 [==============================] - 0s 64us/step - loss: 0.4390 - acc: 0.7912\n",
      "Epoch 120/200\n",
      "249/249 [==============================] - 0s 60us/step - loss: 0.4495 - acc: 0.7912\n",
      "Epoch 121/200\n",
      "249/249 [==============================] - 0s 60us/step - loss: 0.4398 - acc: 0.7912\n",
      "Epoch 122/200\n",
      "249/249 [==============================] - 0s 56us/step - loss: 0.4317 - acc: 0.7912\n",
      "Epoch 123/200\n",
      "249/249 [==============================] - 0s 48us/step - loss: 0.4333 - acc: 0.7912\n",
      "Epoch 124/200\n",
      "249/249 [==============================] - 0s 64us/step - loss: 0.4114 - acc: 0.7912\n",
      "Epoch 125/200\n",
      "249/249 [==============================] - 0s 48us/step - loss: 0.4222 - acc: 0.7912\n",
      "Epoch 126/200\n",
      "249/249 [==============================] - 0s 52us/step - loss: 0.4485 - acc: 0.7912\n",
      "Epoch 127/200\n",
      "249/249 [==============================] - 0s 52us/step - loss: 0.4194 - acc: 0.7912\n",
      "Epoch 128/200\n",
      "249/249 [==============================] - 0s 56us/step - loss: 0.4345 - acc: 0.7912\n",
      "Epoch 129/200\n",
      "249/249 [==============================] - 0s 64us/step - loss: 0.4064 - acc: 0.7912\n",
      "Epoch 130/200\n",
      "249/249 [==============================] - 0s 60us/step - loss: 0.4105 - acc: 0.7912\n",
      "Epoch 131/200\n",
      "249/249 [==============================] - 0s 60us/step - loss: 0.4441 - acc: 0.7912\n",
      "Epoch 132/200\n",
      "249/249 [==============================] - 0s 64us/step - loss: 0.4321 - acc: 0.7912\n",
      "Epoch 133/200\n",
      "249/249 [==============================] - 0s 60us/step - loss: 0.4235 - acc: 0.7912\n",
      "Epoch 134/200\n",
      "249/249 [==============================] - 0s 64us/step - loss: 0.4234 - acc: 0.7912\n",
      "Epoch 135/200\n",
      "249/249 [==============================] - 0s 68us/step - loss: 0.4230 - acc: 0.7912\n",
      "Epoch 136/200\n",
      "249/249 [==============================] - 0s 60us/step - loss: 0.4121 - acc: 0.7912\n",
      "Epoch 137/200\n",
      "249/249 [==============================] - 0s 60us/step - loss: 0.4323 - acc: 0.7912\n",
      "Epoch 138/200\n",
      "249/249 [==============================] - 0s 68us/step - loss: 0.4213 - acc: 0.7912\n",
      "Epoch 139/200\n",
      "249/249 [==============================] - 0s 64us/step - loss: 0.4182 - acc: 0.7912\n",
      "Epoch 140/200\n",
      "249/249 [==============================] - 0s 60us/step - loss: 0.4378 - acc: 0.7912\n",
      "Epoch 141/200\n",
      "249/249 [==============================] - 0s 56us/step - loss: 0.4095 - acc: 0.7912\n",
      "Epoch 142/200\n",
      "249/249 [==============================] - 0s 60us/step - loss: 0.4142 - acc: 0.7912\n",
      "Epoch 143/200\n",
      "249/249 [==============================] - 0s 56us/step - loss: 0.4267 - acc: 0.7912\n",
      "Epoch 144/200\n",
      "249/249 [==============================] - 0s 48us/step - loss: 0.3985 - acc: 0.7912\n",
      "Epoch 145/200\n",
      "249/249 [==============================] - 0s 60us/step - loss: 0.4478 - acc: 0.7912\n",
      "Epoch 146/200\n",
      "249/249 [==============================] - 0s 60us/step - loss: 0.4052 - acc: 0.7912\n",
      "Epoch 147/200\n",
      "249/249 [==============================] - 0s 64us/step - loss: 0.4184 - acc: 0.7912\n",
      "Epoch 148/200\n",
      "249/249 [==============================] - 0s 56us/step - loss: 0.3861 - acc: 0.7912\n",
      "Epoch 149/200\n",
      "249/249 [==============================] - 0s 52us/step - loss: 0.3928 - acc: 0.7912\n",
      "Epoch 150/200\n",
      "249/249 [==============================] - 0s 56us/step - loss: 0.4042 - acc: 0.7912\n",
      "Epoch 151/200\n",
      "249/249 [==============================] - 0s 68us/step - loss: 0.4205 - acc: 0.7912\n",
      "Epoch 152/200\n",
      "249/249 [==============================] - 0s 72us/step - loss: 0.4025 - acc: 0.7912\n",
      "Epoch 153/200\n",
      "249/249 [==============================] - 0s 56us/step - loss: 0.3964 - acc: 0.7912\n",
      "Epoch 154/200\n",
      "249/249 [==============================] - 0s 60us/step - loss: 0.3907 - acc: 0.7912\n",
      "Epoch 155/200\n",
      "249/249 [==============================] - 0s 52us/step - loss: 0.4118 - acc: 0.7912\n",
      "Epoch 156/200\n",
      "249/249 [==============================] - 0s 60us/step - loss: 0.4337 - acc: 0.7912\n"
     ]
    },
    {
     "name": "stdout",
     "output_type": "stream",
     "text": [
      "Epoch 157/200\n",
      "249/249 [==============================] - 0s 60us/step - loss: 0.4065 - acc: 0.7912\n",
      "Epoch 158/200\n",
      "249/249 [==============================] - 0s 44us/step - loss: 0.4086 - acc: 0.7912\n",
      "Epoch 159/200\n",
      "249/249 [==============================] - 0s 60us/step - loss: 0.4172 - acc: 0.7912\n",
      "Epoch 160/200\n",
      "249/249 [==============================] - 0s 64us/step - loss: 0.4212 - acc: 0.7912\n",
      "Epoch 161/200\n",
      "249/249 [==============================] - 0s 68us/step - loss: 0.4083 - acc: 0.7912\n",
      "Epoch 162/200\n",
      "249/249 [==============================] - 0s 72us/step - loss: 0.3896 - acc: 0.7912\n",
      "Epoch 163/200\n",
      "249/249 [==============================] - 0s 52us/step - loss: 0.3897 - acc: 0.7912\n",
      "Epoch 164/200\n",
      "249/249 [==============================] - 0s 56us/step - loss: 0.3917 - acc: 0.7912\n",
      "Epoch 165/200\n",
      "249/249 [==============================] - 0s 56us/step - loss: 0.4349 - acc: 0.7912\n",
      "Epoch 166/200\n",
      "249/249 [==============================] - 0s 48us/step - loss: 0.4298 - acc: 0.7912\n",
      "Epoch 167/200\n",
      "249/249 [==============================] - 0s 48us/step - loss: 0.4066 - acc: 0.7912\n",
      "Epoch 168/200\n",
      "249/249 [==============================] - 0s 56us/step - loss: 0.3937 - acc: 0.7912\n",
      "Epoch 169/200\n",
      "249/249 [==============================] - 0s 60us/step - loss: 0.3905 - acc: 0.7912\n",
      "Epoch 170/200\n",
      "249/249 [==============================] - 0s 56us/step - loss: 0.3828 - acc: 0.7912\n",
      "Epoch 171/200\n",
      "249/249 [==============================] - 0s 60us/step - loss: 0.3907 - acc: 0.7912\n",
      "Epoch 172/200\n",
      "249/249 [==============================] - 0s 60us/step - loss: 0.4134 - acc: 0.7912\n",
      "Epoch 173/200\n",
      "249/249 [==============================] - 0s 60us/step - loss: 0.4094 - acc: 0.7912\n",
      "Epoch 174/200\n",
      "249/249 [==============================] - 0s 60us/step - loss: 0.3924 - acc: 0.7912\n",
      "Epoch 175/200\n",
      "249/249 [==============================] - 0s 52us/step - loss: 0.3888 - acc: 0.7912\n",
      "Epoch 176/200\n",
      "249/249 [==============================] - 0s 56us/step - loss: 0.3719 - acc: 0.7912\n",
      "Epoch 177/200\n",
      "249/249 [==============================] - 0s 60us/step - loss: 0.3818 - acc: 0.7912\n",
      "Epoch 178/200\n",
      "249/249 [==============================] - 0s 52us/step - loss: 0.3962 - acc: 0.7912\n",
      "Epoch 179/200\n",
      "249/249 [==============================] - 0s 64us/step - loss: 0.3876 - acc: 0.7912\n",
      "Epoch 180/200\n",
      "249/249 [==============================] - 0s 60us/step - loss: 0.4040 - acc: 0.7912\n",
      "Epoch 181/200\n",
      "249/249 [==============================] - 0s 56us/step - loss: 0.4127 - acc: 0.7912\n",
      "Epoch 182/200\n",
      "249/249 [==============================] - 0s 56us/step - loss: 0.3879 - acc: 0.7912\n",
      "Epoch 183/200\n",
      "249/249 [==============================] - 0s 56us/step - loss: 0.3937 - acc: 0.7912\n",
      "Epoch 184/200\n",
      "249/249 [==============================] - 0s 56us/step - loss: 0.4049 - acc: 0.7912\n",
      "Epoch 185/200\n",
      "249/249 [==============================] - 0s 56us/step - loss: 0.3817 - acc: 0.7912\n",
      "Epoch 186/200\n",
      "249/249 [==============================] - 0s 64us/step - loss: 0.4124 - acc: 0.7912\n",
      "Epoch 187/200\n",
      "249/249 [==============================] - 0s 64us/step - loss: 0.3813 - acc: 0.7912\n",
      "Epoch 188/200\n",
      "249/249 [==============================] - 0s 52us/step - loss: 0.4307 - acc: 0.7912\n",
      "Epoch 189/200\n",
      "249/249 [==============================] - 0s 56us/step - loss: 0.3956 - acc: 0.7912\n",
      "Epoch 190/200\n",
      "249/249 [==============================] - 0s 44us/step - loss: 0.4032 - acc: 0.7912\n",
      "Epoch 191/200\n",
      "249/249 [==============================] - 0s 56us/step - loss: 0.3890 - acc: 0.7912\n",
      "Epoch 192/200\n",
      "249/249 [==============================] - 0s 60us/step - loss: 0.3873 - acc: 0.7912\n",
      "Epoch 193/200\n",
      "249/249 [==============================] - 0s 52us/step - loss: 0.3665 - acc: 0.7912\n",
      "Epoch 194/200\n",
      "249/249 [==============================] - 0s 60us/step - loss: 0.4008 - acc: 0.7912\n",
      "Epoch 195/200\n",
      "249/249 [==============================] - 0s 60us/step - loss: 0.4511 - acc: 0.7912\n",
      "Epoch 196/200\n",
      "249/249 [==============================] - 0s 56us/step - loss: 0.3832 - acc: 0.7912\n",
      "Epoch 197/200\n",
      "249/249 [==============================] - 0s 60us/step - loss: 0.3790 - acc: 0.7912\n",
      "Epoch 198/200\n",
      "249/249 [==============================] - 0s 56us/step - loss: 0.3875 - acc: 0.7912\n",
      "Epoch 199/200\n",
      "249/249 [==============================] - 0s 64us/step - loss: 0.3772 - acc: 0.7912\n",
      "Epoch 200/200\n",
      "249/249 [==============================] - 0s 64us/step - loss: 0.3756 - acc: 0.7912\n",
      "0.8425925925925926\n",
      "Null Accuracy: 0    0.842593\n",
      "Name: Readmitted, dtype: float64\n"
     ]
    }
   ],
   "source": [
    "##import the libraries\n",
    "import numpy as np\n",
    "import pandas as pd\n",
    "\n",
    "#Load the Data\n",
    "patient_data=pd.read_csv(\"Health_Data.csv\")\n",
    "\n",
    "##use the head function to get a glimpse data\n",
    "patient_data.head()\n",
    "\n",
    "##Summary of Numerical Data\n",
    "patient_data.describe()\n",
    "    \n",
    "##Summary of Categorical Data\n",
    "patient_data.describe(include=['object'])\n",
    "\n",
    "mydata=pd.read_csv(\"Health_Data.csv\")\n",
    "X=mydata.iloc[:,1:9]\n",
    "y=mydata.iloc[:,9]\n",
    "\n",
    "\n",
    "##New Admission type\n",
    "A_type=pd.get_dummies(X.iloc[:,1],drop_first=True,prefix='Atype')\n",
    "\n",
    "##New Gender \n",
    "New_gender=pd.get_dummies(X.iloc[:,4],drop_first=True,prefix='Gender')\n",
    "\n",
    "##New Pre Existing Disease Variable\n",
    "Pre_exdis=pd.get_dummies(X.iloc[:,2],drop_first=True,prefix='PreExistDis')\n",
    "\n",
    "## Drop the original categorical columns\n",
    "X.drop(['Admission_type','PreExistingDisease','Gender'],axis=1,inplace=True)\n",
    "\n",
    "##Concat the new transformed data to X dataframe\n",
    "X=pd.concat([X,A_type,New_gender,Pre_exdis],axis=1)\n",
    "\n",
    "##Split The Data into Train and Test\n",
    "from sklearn.model_selection import train_test_split\n",
    "xtrain,xtest,ytrain,ytest= train_test_split(X, y, test_size=0.30, random_state=110)\n",
    "\n",
    "#Convert DataFrame to Numpy array\n",
    "\n",
    "x_train=xtrain.values\n",
    "x_test=xtest.values\n",
    "y_train=ytrain.values\n",
    "y_test=ytest.values\n",
    "\n",
    "##Initialize StandardScaler\n",
    "from sklearn.preprocessing import StandardScaler\n",
    "sc=StandardScaler()\n",
    "\n",
    "#Transform the training data\n",
    "xtrain=sc.fit_transform(xtrain)\n",
    "xtrain=pd.DataFrame(xtrain,columns=xtest.columns)\n",
    "\n",
    "#Transform the testing data\n",
    "xtest=sc.transform(xtest)\n",
    "xtest=pd.DataFrame(xtest,columns=xtrain.columns)\n",
    "\n",
    "##Import the relevant Keras libraries\n",
    "from keras.models import Sequential\n",
    "from keras.layers import Dense\n",
    "from keras.layers import Dropout\n",
    "\n",
    "##Initiate the Model with Sequential Class\n",
    "model=Sequential()\n",
    "\n",
    "## Add the 1st dense layer and Dropout Layer\n",
    "model.add(Dense(units=6,activation='relu',kernel_initializer='uniform',input_dim=11))\n",
    "model.add(Dropout(rate=0.3))\n",
    "\n",
    "##Add the 2nd dense Layer and Dropout Layer\n",
    "model.add(Dense(units=6,activation='relu',kernel_initializer='uniform'))\n",
    "model.add(Dropout(rate=0.3))\n",
    "\n",
    "##Add Output Dense Layer\n",
    "model.add(Dense(units=1,activation='sigmoid',kernel_initializer='uniform'))\n",
    "\n",
    "\n",
    "#Compile the Model\n",
    "model.compile(optimizer='adam',loss='binary_crossentropy',metrics=['accuracy'])\n",
    "\n",
    "#Fit the Model\n",
    "model.fit(x_train,y_train,epochs=200,batch_size=20,)\n",
    "\n",
    "#y_pred_class is the predcition & y_pred_prob is probabilities of the prediction\n",
    "\n",
    "y_pred_class=model.predict(x_test)\n",
    "y_pred_prob=model.predict_proba(x_test)\n",
    "\n",
    "##Explore the y_pred_class\n",
    "y_pred_class[:5]\n",
    "\n",
    "##Set threshold all values above threshold are 1 and #below 0\n",
    "y_pred_class=y_pred_class>0.5\n",
    "\n",
    "#Calculate accuracy\n",
    "from sklearn.metrics import accuracy_score\n",
    "print(accuracy_score(y_test,y_pred_class))\n",
    "\n",
    "# Use the value_count function to calculate distinct class values\n",
    "ytest.value_counts()\n",
    "\n",
    "##use head function and divide it by lenght of ytest\n",
    "print(\"Null Accuracy:\",ytest.value_counts().head(1)/len(ytest))\n"
   ]
  },
  {
   "cell_type": "markdown",
   "metadata": {},
   "source": [
    "## Confusion Matrix & Derived Metrics\n"
   ]
  },
  {
   "cell_type": "code",
   "execution_count": 2,
   "metadata": {},
   "outputs": [
    {
     "name": "stdout",
     "output_type": "stream",
     "text": [
      "[[91  0]\n",
      " [17  0]]\n"
     ]
    }
   ],
   "source": [
    "from sklearn.metrics import confusion_matrix\n",
    "cm=confusion_matrix(y_test,y_pred_class)\n",
    "print(cm)\n"
   ]
  },
  {
   "cell_type": "code",
   "execution_count": 3,
   "metadata": {},
   "outputs": [],
   "source": [
    "##True Negative\n",
    "TN=cm[0,0]\n",
    "##False Negative\n",
    "FN=cm[1,0]\n",
    "##False Positives\n",
    "FP=cm[0,1]\n",
    "##True Positives\n",
    "TP=cm[1,1]\n"
   ]
  },
  {
   "cell_type": "code",
   "execution_count": 4,
   "metadata": {},
   "outputs": [
    {
     "data": {
      "text/plain": [
       "0.0"
      ]
     },
     "execution_count": 4,
     "metadata": {},
     "output_type": "execute_result"
    }
   ],
   "source": [
    "## Calculating Sensitivity\n",
    "Sensitivity=TP/(TP+FN)\n",
    "Sensitivity\n"
   ]
  },
  {
   "cell_type": "code",
   "execution_count": 5,
   "metadata": {},
   "outputs": [
    {
     "data": {
      "text/plain": [
       "1.0"
      ]
     },
     "execution_count": 5,
     "metadata": {},
     "output_type": "execute_result"
    }
   ],
   "source": [
    "##Calculating Specificity\n",
    "Specificity=TN/(TN+FP)\n",
    "Specificity\n"
   ]
  },
  {
   "cell_type": "code",
   "execution_count": 6,
   "metadata": {},
   "outputs": [
    {
     "name": "stderr",
     "output_type": "stream",
     "text": [
      "C:\\Users\\Ritesh\\Anaconda3\\lib\\site-packages\\ipykernel_launcher.py:2: RuntimeWarning: invalid value encountered in longlong_scalars\n",
      "  \n"
     ]
    },
    {
     "data": {
      "text/plain": [
       "nan"
      ]
     },
     "execution_count": 6,
     "metadata": {},
     "output_type": "execute_result"
    }
   ],
   "source": [
    "##Precision\n",
    "Precision= TP/(TP+FP)\n",
    "Precision\n"
   ]
  },
  {
   "cell_type": "code",
   "execution_count": 7,
   "metadata": {},
   "outputs": [
    {
     "data": {
      "text/plain": [
       "0.0"
      ]
     },
     "execution_count": 7,
     "metadata": {},
     "output_type": "execute_result"
    }
   ],
   "source": [
    "##Calculate False Positive_rate\n",
    "False_Positive_rate= FP/(FP+TN)\n",
    "False_Positive_rate\n"
   ]
  },
  {
   "cell_type": "code",
   "execution_count": 8,
   "metadata": {},
   "outputs": [],
   "source": [
    "y_pred_class=y_pred_class>0.3"
   ]
  },
  {
   "cell_type": "code",
   "execution_count": 9,
   "metadata": {},
   "outputs": [
    {
     "data": {
      "text/plain": [
       "array([[91,  0],\n",
       "       [17,  0]], dtype=int64)"
      ]
     },
     "execution_count": 9,
     "metadata": {},
     "output_type": "execute_result"
    }
   ],
   "source": [
    "from sklearn.metrics import confusion_matrix\n",
    "cm=confusion_matrix(y_test,y_pred_class)\n",
    "cm\n"
   ]
  },
  {
   "cell_type": "code",
   "execution_count": 10,
   "metadata": {},
   "outputs": [],
   "source": [
    "##True Negative\n",
    "TN=cm[0,0]\n",
    "##False Negative\n",
    "FN=cm[1,0]\n",
    "##False Positives\n",
    "FP=cm[0,1]\n",
    "##True Positives\n",
    "TP=cm[1,1]\n"
   ]
  },
  {
   "cell_type": "code",
   "execution_count": 11,
   "metadata": {},
   "outputs": [
    {
     "data": {
      "text/plain": [
       "0.0"
      ]
     },
     "execution_count": 11,
     "metadata": {},
     "output_type": "execute_result"
    }
   ],
   "source": [
    "## Calculating Sensitivity\n",
    "Sensitivity=TP/(TP+FN)\n",
    "Sensitivity\n"
   ]
  },
  {
   "cell_type": "code",
   "execution_count": 12,
   "metadata": {},
   "outputs": [
    {
     "data": {
      "text/plain": [
       "1.0"
      ]
     },
     "execution_count": 12,
     "metadata": {},
     "output_type": "execute_result"
    }
   ],
   "source": [
    "##Calculating Specificity\n",
    "Specificity=TN/(TN+FP)\n",
    "Specificity\n"
   ]
  },
  {
   "cell_type": "code",
   "execution_count": 13,
   "metadata": {},
   "outputs": [
    {
     "data": {
      "image/png": "[encoded data removed]",
      "text/plain": [
       "<Figure size 432x288 with 1 Axes>"
      ]
     },
     "metadata": {
      "needs_background": "light"
     },
     "output_type": "display_data"
    }
   ],
   "source": [
    "import matplotlib.pyplot as plt\n",
    "%matplotlib inline\n",
    "#histogram of class distribution\n",
    "plt.hist(y_pred_prob)\n",
    "plt.title(\"Histogram of Predicted Probabilities\")\n",
    "plt.xlabel(\"Predicted Probabilities of patient readmission\")\n",
    "plt.ylabel(\"Frequency\")\n",
    "plt.show()\n"
   ]
  },
  {
   "cell_type": "code",
   "execution_count": 14,
   "metadata": {},
   "outputs": [],
   "source": [
    "from sklearn.metrics import roc_curve\n",
    "fpr,tpr,thresholds=roc_curve(y_test,y_pred_prob)\n"
   ]
  },
  {
   "cell_type": "code",
   "execution_count": 15,
   "metadata": {},
   "outputs": [
    {
     "data": {
      "image/png": "[encoded data removed]",
      "text/plain": [
       "<Figure size 432x288 with 1 Axes>"
      ]
     },
     "metadata": {
      "needs_background": "light"
     },
     "output_type": "display_data"
    }
   ],
   "source": [
    "import matplotlib.pyplot as plt\n",
    "plt.plot(fpr,tpr)\n",
    "plt.title(\"ROC Curve for Patient Readmission\")\n",
    "plt.xlabel(\"False Positive rate (1-Specificity)\")\n",
    "plt.ylabel(\"True Positive rate (Sensitivity)\")\n",
    "plt.grid(True)\n",
    "plt.show()\n"
   ]
  },
  {
   "cell_type": "code",
   "execution_count": 16,
   "metadata": {},
   "outputs": [],
   "source": [
    "def optimum_threshold(my_threshold):\n",
    "    print (\"Sensitivity:\",tpr[thresholds>my_threshold][-1])\n",
    "    print (\"Specificity:\",1-fpr[thresholds>my_threshold][-1])\n"
   ]
  },
  {
   "cell_type": "code",
   "execution_count": 17,
   "metadata": {},
   "outputs": [
    {
     "name": "stdout",
     "output_type": "stream",
     "text": [
      "Sensitivity: 0.47058823529411764\n",
      "Specificity: 0.8461538461538461\n"
     ]
    }
   ],
   "source": [
    "optimum_threshold(0.3)\n"
   ]
  },
  {
   "cell_type": "code",
   "execution_count": 18,
   "metadata": {},
   "outputs": [
    {
     "name": "stdout",
     "output_type": "stream",
     "text": [
      "Sensitivity: 0.0\n",
      "Specificity: 1.0\n"
     ]
    }
   ],
   "source": [
    "optimum_threshold(0.5)"
   ]
  },
  {
   "cell_type": "code",
   "execution_count": 19,
   "metadata": {},
   "outputs": [
    {
     "name": "stdout",
     "output_type": "stream",
     "text": [
      "Sensitivity: 0.8235294117647058\n",
      "Specificity: 0.5054945054945055\n"
     ]
    }
   ],
   "source": [
    "optimum_threshold(0.03)"
   ]
  },
  {
   "cell_type": "code",
   "execution_count": 20,
   "metadata": {},
   "outputs": [
    {
     "name": "stdout",
     "output_type": "stream",
     "text": [
      "Sensitivity: 0.5882352941176471\n",
      "Specificity: 0.7142857142857143\n"
     ]
    }
   ],
   "source": [
    "optimum_threshold(0.1)"
   ]
  },
  {
   "cell_type": "code",
   "execution_count": 21,
   "metadata": {},
   "outputs": [
    {
     "data": {
      "text/plain": [
       "0.7188106011635423"
      ]
     },
     "execution_count": 21,
     "metadata": {},
     "output_type": "execute_result"
    }
   ],
   "source": [
    "from sklearn.metrics import roc_auc_score\n",
    "roc_auc_score(y_test,y_pred_prob)\n"
   ]
  }
 ],
 "metadata": {
  "kernelspec": {
   "display_name": "Python 3",
   "language": "python",
   "name": "python3"
  },
  "language_info": {
   "codemirror_mode": {
    "name": "ipython",
    "version": 3
   },
   "file_extension": ".py",
   "mimetype": "text/x-python",
   "name": "python",
   "nbconvert_exporter": "python",
   "pygments_lexer": "ipython3",
   "version": "3.7.2"
  }
 },
 "nbformat": 4,
 "nbformat_minor": 2
}
