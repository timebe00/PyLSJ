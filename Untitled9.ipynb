{
 "cells": [
  {
   "cell_type": "code",
   "execution_count": 1,
   "metadata": {},
   "outputs": [],
   "source": [
    "import matplotlib.pyplot as plt\n",
    "import matplotlib\n",
    "import numpy as np\n",
    "import matplotlib.patches as mpatches\n",
    "from sklearn.datasets import make_blobs, make_circles\n",
    "from keras.layers import Dense, Activation\n",
    "from keras.models import Sequential\n",
    "from keras.wrappers.scikit_learn import KerasClassifier\n",
    "from sklearn.model_selection import StratifiedKFold, cross_val_score\n",
    "from flask import Flask, jsonify\n",
    "import requests\n",
    "import json\n",
    "from flask_restful import Resource, Api, reqparse"
   ]
  },
  {
   "cell_type": "code",
   "execution_count": 27,
   "metadata": {},
   "outputs": [],
   "source": [
    "def plot_data(pl, X, y):\n",
    "    pl.plot(X[y == 0, 0], X[y == 0, 1], 'ob', alpha = 0.5)\n",
    "    pl.plot(X[y == 1, 0], X[y == 1, 1], 'xr', alpha = 0.5)\n",
    "    pl.legend(['0', '1'])\n",
    "    return pl\n",
    "\n",
    "X, y = make_circles(\n",
    "    n_samples = 400, \n",
    "    factor = 0.6, \n",
    "    noise = 0.1, \n",
    "    random_state = 42\n",
    ")"
   ]
  },
  {
   "cell_type": "code",
   "execution_count": 38,
   "metadata": {},
   "outputs": [
    {
     "name": "stdout",
     "output_type": "stream",
     "text": [
      "Epoch 1/10\n",
      "40/40 [==============================] - 0s 752us/step - loss: 0.6935 - accuracy: 0.5075\n",
      "Epoch 2/10\n",
      "40/40 [==============================] - 0s 674us/step - loss: 0.6934 - accuracy: 0.4775\n",
      "Epoch 3/10\n",
      "40/40 [==============================] - 0s 667us/step - loss: 0.6934 - accuracy: 0.4875\n",
      "Epoch 4/10\n",
      "40/40 [==============================] - 0s 640us/step - loss: 0.6933 - accuracy: 0.5275\n",
      "Epoch 5/10\n",
      "40/40 [==============================] - 0s 629us/step - loss: 0.6933 - accuracy: 0.5250\n",
      "Epoch 6/10\n",
      "40/40 [==============================] - 0s 677us/step - loss: 0.6932 - accuracy: 0.5225\n",
      "Epoch 7/10\n",
      "40/40 [==============================] - 0s 706us/step - loss: 0.6932 - accuracy: 0.5825\n",
      "Epoch 8/10\n",
      "40/40 [==============================] - 0s 637us/step - loss: 0.6932 - accuracy: 0.5325\n",
      "Epoch 9/10\n",
      "40/40 [==============================] - 0s 682us/step - loss: 0.6932 - accuracy: 0.5300\n",
      "Epoch 10/10\n",
      "40/40 [==============================] - 0s 758us/step - loss: 0.6931 - accuracy: 0.5350\n"
     ]
    }
   ],
   "source": [
    "seed = 1\n",
    "np.random.seed(seed)\n",
    "\n",
    "model = Sequential()\n",
    "\n",
    "model.add(Dense(256, activation = 'tanh', input_dim = 2))\n",
    "model.add(Dense(128, activation = 'tanh'))\n",
    "model.add(Dense(96, activation = 'tanh'))\n",
    "model.add(Dense(64, activation = 'tanh'))\n",
    "model.add(Dense(32, activation = 'tanh'))\n",
    "model.add(Dense(32, activation = 'tanh'))\n",
    "model.add(Dense(16, activation = 'tanh'))\n",
    "model.add(Dense(8, activation = 'tanh'))\n",
    "model.add(Dense(1, activation = 'tanh'))\n",
    "model.add(Dense(1, activation = 'sigmoid'))\n",
    "\n",
    "model.compile(optimizer = 'sgd', loss = 'binary_crossentropy', metrics=['accuracy'])\n",
    "history = model.fit(X, y, batch_size = 10, epochs = 10, verbose = 1)"
   ]
  },
  {
   "cell_type": "code",
   "execution_count": 39,
   "metadata": {},
   "outputs": [
    {
     "data": {
      "text/plain": [
       "<function matplotlib.pyplot.show(*args, **kw)>"
      ]
     },
     "execution_count": 39,
     "metadata": {},
     "output_type": "execute_result"
    },
    {
     "data": {
      "image/png": "[encoded data removed]",
      "text/plain": [
       "<Figure size 432x288 with 1 Axes>"
      ]
     },
     "metadata": {
      "needs_background": "light"
     },
     "output_type": "display_data"
    }
   ],
   "source": [
    "plt.plot(history.history['accuracy'])\n",
    "plt.title(\"Line\")\n",
    "plt.show"
   ]
  },
  {
   "cell_type": "code",
   "execution_count": 15,
   "metadata": {},
   "outputs": [
    {
     "name": "stdout",
     "output_type": "stream",
     "text": [
      "[0.6937586069107056, 0.6937727332115173, 0.6938766241073608, 0.6935601830482483, 0.6935179829597473, 0.6931977272033691, 0.693013072013855, 0.6931045055389404, 0.692701518535614, 0.6923086047172546]\n"
     ]
    }
   ],
   "source": [
    "text = history.history['loss']\n",
    "print(text)"
   ]
  },
  {
   "cell_type": "code",
   "execution_count": 41,
   "metadata": {},
   "outputs": [
    {
     "name": "stdout",
     "output_type": "stream",
     "text": [
      " * Serving Flask app \"__main__\" (lazy loading)\n",
      " * Environment: production\n",
      "   WARNING: This is a development server. Do not use it in a production deployment.\n",
      "   Use a production WSGI server instead.\n",
      " * Debug mode: off\n"
     ]
    },
    {
     "name": "stderr",
     "output_type": "stream",
     "text": [
      " * Running on http://127.0.0.1:5000/ (Press CTRL+C to quit)\n",
      "127.0.0.1 - - [10/Jul/2020 17:36:46] \"\u001b[37mGET /dataServer HTTP/1.1\u001b[0m\" 200 -\n"
     ]
    },
    {
     "name": "stdout",
     "output_type": "stream",
     "text": [
      "It's operate\n"
     ]
    }
   ],
   "source": [
    "app = Flask(__name__)\n",
    "api = Api(app)\n",
    "\n",
    "# localhost:8080/dataServer로 요청을 하면\n",
    "# 아래 함수가 동작을 한다는 의미!\n",
    "@app.route('/dataServer')\n",
    "def PythonServerResponse():\n",
    "    print(\"It's operate\")\n",
    "    summary = {'loss' : text}\n",
    "    return jsonify(summary)\n",
    "\n",
    "app.run()"
   ]
  },
  {
   "cell_type": "code",
   "execution_count": null,
   "metadata": {},
   "outputs": [],
   "source": []
  }
 ],
 "metadata": {
  "kernelspec": {
   "display_name": "Python 3",
   "language": "python",
   "name": "python3"
  },
  "language_info": {
   "codemirror_mode": {
    "name": "ipython",
    "version": 3
   },
   "file_extension": ".py",
   "mimetype": "text/x-python",
   "name": "python",
   "nbconvert_exporter": "python",
   "pygments_lexer": "ipython3",
   "version": "3.7.6"
  }
 },
 "nbformat": 4,
 "nbformat_minor": 4
}
