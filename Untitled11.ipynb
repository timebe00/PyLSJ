{
 "cells": [
  {
   "cell_type": "code",
   "execution_count": 1,
   "metadata": {},
   "outputs": [],
   "source": [
    "from keras.models import Sequential\n",
    "from keras.layers import Dense, Activation\n",
    "import numpy as np\n",
    "from keras.callbacks import EarlyStopping\n",
    "from sklearn.datasets import make_classification\n",
    "from sklearn.model_selection import train_test_split\n",
    "import json\n",
    "import requests\n",
    "\n",
    "from flask import Flask, jsonify\n",
    "from flask_restful import Resource, Api, reqparse"
   ]
  },
  {
   "cell_type": "code",
   "execution_count": 2,
   "metadata": {},
   "outputs": [],
   "source": [
    "X, y = make_classification(\n",
    "    n_samples = 500, n_features = 16, n_classes = 2\n",
    ")\n",
    "\n",
    "X_train, X_test, y_train, y_test = train_test_split(\n",
    "    X, y, test_size = 0.3, random_state = 0\n",
    ")"
   ]
  },
  {
   "cell_type": "code",
   "execution_count": 3,
   "metadata": {},
   "outputs": [
    {
     "name": "stdout",
     "output_type": "stream",
     "text": [
      "5/5 [==============================] - 0s 622us/step - loss: 0.2968\n",
      "Test Loss = 0.2967507541179657\n"
     ]
    }
   ],
   "source": [
    "model = Sequential()\n",
    "\n",
    "# 뉴럴넷을 구성\n",
    "model.add(Dense(16, activation = 'relu', input_dim = 16))\n",
    "model.add(Dense(8, activation = 'relu'))\n",
    "model.add(Dense(4, activation = 'tanh'))\n",
    "model.add(Dense(1, activation = 'sigmoid'))\n",
    "\n",
    "model.compile(\n",
    "    optimizer = 'sgd',\n",
    "    loss = 'binary_crossentropy'\n",
    ")\n",
    "\n",
    "# EarlyStopping을 사용한다면\n",
    "# Fit을 하기 이전에 어디서 중단할지를 정해줘야 한다.\n",
    "es_callback = EarlyStopping(\n",
    "    # val_loss: 테스트 로스를 감독함\n",
    "    monitor = 'val_loss',\n",
    "    # mode = 'min'은 최소값을 감지함\n",
    "    mode = 'min'\n",
    ")\n",
    "# 콜백이란 ? 이벤트\n",
    "# 몰컴 성공을 위해 필요한 것\n",
    "# 1. 부모님이 주무시고 계셔야한다.\n",
    "# 2. 큰 소리가 나면 안됨\n",
    "# 3. 부모님이 방문을 열고 나오실때\n",
    "#    모니터 끄고 자는척 시전\n",
    "\n",
    "trainRes = model.fit(\n",
    "    X_train, y_train, \n",
    "    validation_data = (X_test, y_test),\n",
    "    epochs = 400,\n",
    "    batch_size = 5,\n",
    "    # 조건이 만족되면 콜백에 의해 fit이 중단되도록 구성한 부분\n",
    "    callbacks = [es_callback],\n",
    "    verbose = 0\n",
    ")\n",
    "\n",
    "print(\"Test Loss =\", model.evaluate(X_test, y_test))"
   ]
  },
  {
   "cell_type": "code",
   "execution_count": 4,
   "metadata": {},
   "outputs": [
    {
     "name": "stdout",
     "output_type": "stream",
     "text": [
      "[0.7120575308799744, 0.6510435938835144, 0.5999553203582764, 0.5482136607170105, 0.4960852563381195, 0.44664686918258667, 0.40472185611724854, 0.37032461166381836, 0.3444221019744873, 0.3241705894470215, 0.30740368366241455, 0.29415932297706604, 0.28170594573020935, 0.26979395747184753, 0.2600024342536926, 0.24961020052433014, 0.24052491784095764, 0.2321902960538864, 0.22327984869480133, 0.2151494026184082, 0.20601899921894073, 0.19849199056625366, 0.1921757012605667, 0.18354764580726624, 0.17853347957134247, 0.169947549700737, 0.16461797058582306]\n"
     ]
    }
   ],
   "source": [
    "print(trainRes.history['loss'])"
   ]
  },
  {
   "cell_type": "code",
   "execution_count": 5,
   "metadata": {},
   "outputs": [
    {
     "name": "stdout",
     "output_type": "stream",
     "text": [
      "[0.6738793253898621, 0.6362082958221436, 0.5978057980537415, 0.5543378591537476, 0.5113874077796936, 0.4706515073776245, 0.4375733435153961, 0.4086761474609375, 0.3907284140586853, 0.37361961603164673, 0.3577987253665924, 0.34584182500839233, 0.3394571840763092, 0.33454224467277527, 0.325346440076828, 0.31782880425453186, 0.31249383091926575, 0.31105878949165344, 0.3056277930736542, 0.30095574259757996, 0.30066701769828796, 0.30044591426849365, 0.29545626044273376, 0.29513469338417053, 0.2934867739677429, 0.29312509298324585, 0.2967507839202881]\n"
     ]
    }
   ],
   "source": [
    "print(trainRes.history['val_loss'])"
   ]
  },
  {
   "cell_type": "code",
   "execution_count": 6,
   "metadata": {},
   "outputs": [
    {
     "data": {
      "text/plain": [
       "'{\"loss\": [0.7120575308799744, 0.6510435938835144, 0.5999553203582764, 0.5482136607170105, 0.4960852563381195, 0.44664686918258667, 0.40472185611724854, 0.37032461166381836, 0.3444221019744873, 0.3241705894470215, 0.30740368366241455, 0.29415932297706604, 0.28170594573020935, 0.26979395747184753, 0.2600024342536926, 0.24961020052433014, 0.24052491784095764, 0.2321902960538864, 0.22327984869480133, 0.2151494026184082, 0.20601899921894073, 0.19849199056625366, 0.1921757012605667, 0.18354764580726624, 0.17853347957134247, 0.169947549700737, 0.16461797058582306], \"val_loss\": [0.6738793253898621, 0.6362082958221436, 0.5978057980537415, 0.5543378591537476, 0.5113874077796936, 0.4706515073776245, 0.4375733435153961, 0.4086761474609375, 0.3907284140586853, 0.37361961603164673, 0.3577987253665924, 0.34584182500839233, 0.3394571840763092, 0.33454224467277527, 0.325346440076828, 0.31782880425453186, 0.31249383091926575, 0.31105878949165344, 0.3056277930736542, 0.30095574259757996, 0.30066701769828796, 0.30044591426849365, 0.29545626044273376, 0.29513469338417053, 0.2934867739677429, 0.29312509298324585, 0.2967507839202881]}'"
      ]
     },
     "execution_count": 6,
     "metadata": {},
     "output_type": "execute_result"
    }
   ],
   "source": [
    "pyRes = dict(trainRes.history)\n",
    "json.dumps(pyRes)"
   ]
  },
  {
   "cell_type": "code",
   "execution_count": 9,
   "metadata": {},
   "outputs": [
    {
     "name": "stdout",
     "output_type": "stream",
     "text": [
      " * Serving Flask app \"__main__\" (lazy loading)\n",
      " * Environment: production\n",
      "   WARNING: This is a development server. Do not use it in a production deployment.\n",
      "   Use a production WSGI server instead.\n",
      " * Debug mode: off\n"
     ]
    },
    {
     "name": "stderr",
     "output_type": "stream",
     "text": [
      " * Running on http://127.0.0.1:5000/ (Press CTRL+C to quit)\n"
     ]
    }
   ],
   "source": [
    "app = Flask(__name__)\n",
    "api = Api(app)\n",
    "\n",
    "# localhost:8080/dataServer로 요청을 하면\n",
    "# 아래 함수가 동작을 한다는 의미!\n",
    "@app.route('/dataServer')\n",
    "def PythonServerResponse():\n",
    "    print(\"It's operate\")\n",
    "    summary = {'name': 'Hello', 'major': 'C++'}\n",
    "    pyRes = dict(trainRes.history)\n",
    "    return jsonify(pyRes)\n",
    "\n",
    "app.run()"
   ]
  },
  {
   "cell_type": "code",
   "execution_count": null,
   "metadata": {},
   "outputs": [],
   "source": []
  }
 ],
 "metadata": {
  "kernelspec": {
   "display_name": "Python 3",
   "language": "python",
   "name": "python3"
  },
  "language_info": {
   "codemirror_mode": {
    "name": "ipython",
    "version": 3
   },
   "file_extension": ".py",
   "mimetype": "text/x-python",
   "name": "python",
   "nbconvert_exporter": "python",
   "pygments_lexer": "ipython3",
   "version": "3.7.6"
  }
 },
 "nbformat": 4,
 "nbformat_minor": 4
}
