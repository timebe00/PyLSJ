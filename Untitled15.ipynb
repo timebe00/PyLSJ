{
 "cells": [
  {
   "cell_type": "code",
   "execution_count": 1,
   "metadata": {},
   "outputs": [],
   "source": [
    "# CNN - FIR필터(음성분석 가능)\n",
    "# RNN, LTSM - IIR필터 피드백을 줌(음성분석 가능)\n",
    "# 피드백 : 특정값을 찾아서 수렴시키는 것\n",
    "# 이전에 결과가 현재의 결과에 영향을 미친다.\n",
    "# 마이크로 펀딩 => FPGA"
   ]
  },
  {
   "cell_type": "code",
   "execution_count": 2,
   "metadata": {},
   "outputs": [],
   "source": [
    "import numpy as np\n",
    "import matplotlib.pyplot as plt\n",
    "import pandas as pd"
   ]
  },
  {
   "cell_type": "code",
   "execution_count": 3,
   "metadata": {},
   "outputs": [
    {
     "name": "stdout",
     "output_type": "stream",
     "text": [
      "ls: cannot access 'Applied-Deep-Learning-with-Keras/Lesson0': No such file or directory\r\n"
     ]
    }
   ],
   "source": [
    "!ls Applied-Deep-Learning-with-Keras/Lesson0"
   ]
  },
  {
   "cell_type": "code",
   "execution_count": 4,
   "metadata": {},
   "outputs": [
    {
     "data": {
      "text/html": [
       "<div>\n",
       "<style scoped>\n",
       "    .dataframe tbody tr th:only-of-type {\n",
       "        vertical-align: middle;\n",
       "    }\n",
       "\n",
       "    .dataframe tbody tr th {\n",
       "        vertical-align: top;\n",
       "    }\n",
       "\n",
       "    .dataframe thead th {\n",
       "        text-align: right;\n",
       "    }\n",
       "</style>\n",
       "<table border=\"1\" class=\"dataframe\">\n",
       "  <thead>\n",
       "    <tr style=\"text-align: right;\">\n",
       "      <th></th>\n",
       "      <th>Date</th>\n",
       "      <th>Open</th>\n",
       "      <th>High</th>\n",
       "      <th>Low</th>\n",
       "      <th>Close</th>\n",
       "      <th>Adj Close</th>\n",
       "      <th>Volume</th>\n",
       "    </tr>\n",
       "  </thead>\n",
       "  <tbody>\n",
       "    <tr>\n",
       "      <th>0</th>\n",
       "      <td>02-01-2014</td>\n",
       "      <td>79.382858</td>\n",
       "      <td>79.575714</td>\n",
       "      <td>78.860001</td>\n",
       "      <td>79.018570</td>\n",
       "      <td>66.964325</td>\n",
       "      <td>58671200</td>\n",
       "    </tr>\n",
       "    <tr>\n",
       "      <th>1</th>\n",
       "      <td>03-01-2014</td>\n",
       "      <td>78.980003</td>\n",
       "      <td>79.099998</td>\n",
       "      <td>77.204285</td>\n",
       "      <td>77.282860</td>\n",
       "      <td>65.493416</td>\n",
       "      <td>98116900</td>\n",
       "    </tr>\n",
       "    <tr>\n",
       "      <th>2</th>\n",
       "      <td>06-01-2014</td>\n",
       "      <td>76.778572</td>\n",
       "      <td>78.114288</td>\n",
       "      <td>76.228569</td>\n",
       "      <td>77.704285</td>\n",
       "      <td>65.850533</td>\n",
       "      <td>103152700</td>\n",
       "    </tr>\n",
       "    <tr>\n",
       "      <th>3</th>\n",
       "      <td>07-01-2014</td>\n",
       "      <td>77.760002</td>\n",
       "      <td>77.994286</td>\n",
       "      <td>76.845711</td>\n",
       "      <td>77.148575</td>\n",
       "      <td>65.379593</td>\n",
       "      <td>79302300</td>\n",
       "    </tr>\n",
       "    <tr>\n",
       "      <th>4</th>\n",
       "      <td>08-01-2014</td>\n",
       "      <td>76.972855</td>\n",
       "      <td>77.937141</td>\n",
       "      <td>76.955711</td>\n",
       "      <td>77.637146</td>\n",
       "      <td>65.793633</td>\n",
       "      <td>64632400</td>\n",
       "    </tr>\n",
       "  </tbody>\n",
       "</table>\n",
       "</div>"
      ],
      "text/plain": [
       "         Date       Open       High        Low      Close  Adj Close  \\\n",
       "0  02-01-2014  79.382858  79.575714  78.860001  79.018570  66.964325   \n",
       "1  03-01-2014  78.980003  79.099998  77.204285  77.282860  65.493416   \n",
       "2  06-01-2014  76.778572  78.114288  76.228569  77.704285  65.850533   \n",
       "3  07-01-2014  77.760002  77.994286  76.845711  77.148575  65.379593   \n",
       "4  08-01-2014  76.972855  77.937141  76.955711  77.637146  65.793633   \n",
       "\n",
       "      Volume  \n",
       "0   58671200  \n",
       "1   98116900  \n",
       "2  103152700  \n",
       "3   79302300  \n",
       "4   64632400  "
      ]
     },
     "execution_count": 4,
     "metadata": {},
     "output_type": "execute_result"
    }
   ],
   "source": [
    "trainSet = pd.read_csv('Applied-Deep-Learning-with-Keras/Lesson09/AAPL_train.csv')\n",
    "trainSet.head()"
   ]
  },
  {
   "cell_type": "code",
   "execution_count": 5,
   "metadata": {},
   "outputs": [
    {
     "data": {
      "text/plain": [
       "array([[ 79.382858],\n",
       "       [ 78.980003],\n",
       "       [ 76.778572],\n",
       "       ...,\n",
       "       [155.839996],\n",
       "       [157.5     ],\n",
       "       [158.529999]])"
      ]
     },
     "execution_count": 5,
     "metadata": {},
     "output_type": "execute_result"
    }
   ],
   "source": [
    "pip install keras==2.2.5trainSetOpen = trainSet.iloc[:, 1:2].values\n",
    "trainSetOpen"
   ]
  },
  {
   "cell_type": "code",
   "execution_count": 6,
   "metadata": {},
   "outputs": [
    {
     "data": {
      "text/plain": [
       "array([[0.05400437],\n",
       "       [0.05148716],\n",
       "       [0.03773165],\n",
       "       ...,\n",
       "       [0.53174205],\n",
       "       [0.54211448],\n",
       "       [0.54855037]])"
      ]
     },
     "execution_count": 6,
     "metadata": {},
     "output_type": "execute_result"
    }
   ],
   "source": [
    "from sklearn.preprocessing import MinMaxScaler\n",
    "sc = MinMaxScaler(feature_range = (0, 1))\n",
    "trainSetScaled = sc.fit_transform(trainSetOpen)\n",
    "trainSetScaled"
   ]
  },
  {
   "cell_type": "code",
   "execution_count": 7,
   "metadata": {},
   "outputs": [],
   "source": [
    "X_train = []\n",
    "y_train = []\n",
    "for i in range(60, 1258):\n",
    "    X_train.append(trainSetScaled[i - 60:i, 0])\n",
    "    y_train.append(trainSetScaled[i, 0])\n",
    "\n",
    "X_train, y_train = np.array(X_train), np.array(y_train)"
   ]
  },
  {
   "cell_type": "code",
   "execution_count": 8,
   "metadata": {
    "scrolled": true
   },
   "outputs": [
    {
     "data": {
      "text/plain": [
       "array([[[0.05400437],\n",
       "        [0.05148716],\n",
       "        [0.03773165],\n",
       "        ...,\n",
       "        [0.04582785],\n",
       "        [0.04002572],\n",
       "        [0.03850823]],\n",
       "\n",
       "       [[0.05148716],\n",
       "        [0.03773165],\n",
       "        [0.04386406],\n",
       "        ...,\n",
       "        [0.04002572],\n",
       "        [0.03850823],\n",
       "        [0.03932056]],\n",
       "\n",
       "       [[0.03773165],\n",
       "        [0.04386406],\n",
       "        [0.03894562],\n",
       "        ...,\n",
       "        [0.03850823],\n",
       "        [0.03932056],\n",
       "        [0.03800839]],\n",
       "\n",
       "       ...,\n",
       "\n",
       "       [[0.98231691],\n",
       "        [0.97794302],\n",
       "        [0.99543867],\n",
       "        ...,\n",
       "        [0.53811549],\n",
       "        [0.48369155],\n",
       "        [0.48462887]],\n",
       "\n",
       "       [[0.97794302],\n",
       "        [0.99543867],\n",
       "        [1.        ],\n",
       "        ...,\n",
       "        [0.48369155],\n",
       "        [0.48462887],\n",
       "        [0.53174205]],\n",
       "\n",
       "       [[0.99543867],\n",
       "        [1.        ],\n",
       "        [0.98237946],\n",
       "        ...,\n",
       "        [0.48462887],\n",
       "        [0.53174205],\n",
       "        [0.54211448]]])"
      ]
     },
     "execution_count": 8,
     "metadata": {},
     "output_type": "execute_result"
    }
   ],
   "source": [
    "X_train = np.reshape(X_train, (X_train.shape[0], X_train.shape[1],1))\n",
    "X_train"
   ]
  },
  {
   "cell_type": "code",
   "execution_count": 9,
   "metadata": {},
   "outputs": [],
   "source": [
    "from keras.layers import Dense\n",
    "from keras.layers import LSTM\n",
    "from keras.layers import Dropout\n",
    "from keras.models import Sequential"
   ]
  },
  {
   "cell_type": "code",
   "execution_count": 10,
   "metadata": {},
   "outputs": [],
   "source": [
    "model = Sequential()\n",
    "\n",
    "model.add(LSTM(units = 50, return_sequences = True, input_shape = (X_train.shape[1], 1)))\n",
    "model.add(LSTM(units = 50, return_sequences = True))\n",
    "model.add(LSTM(units = 50, return_sequences = True))\n",
    "model.add(LSTM(units = 50))\n",
    "model.add(Dense(units = 1))"
   ]
  },
  {
   "cell_type": "code",
   "execution_count": 11,
   "metadata": {
    "scrolled": true
   },
   "outputs": [
    {
     "name": "stdout",
     "output_type": "stream",
     "text": [
      "Epoch 1/100\n",
      "38/38 [==============================] - 2s 46ms/step - loss: 0.0324\n",
      "Epoch 2/100\n",
      "38/38 [==============================] - 2s 44ms/step - loss: 0.0030\n",
      "Epoch 3/100\n",
      "38/38 [==============================] - 2s 42ms/step - loss: 0.0022\n",
      "Epoch 4/100\n",
      "38/38 [==============================] - 2s 43ms/step - loss: 0.0022\n",
      "Epoch 5/100\n",
      "38/38 [==============================] - 2s 43ms/step - loss: 0.0020\n",
      "Epoch 6/100\n",
      "38/38 [==============================] - 2s 43ms/step - loss: 0.0017\n",
      "Epoch 7/100\n",
      "38/38 [==============================] - 2s 42ms/step - loss: 0.0016\n",
      "Epoch 8/100\n",
      "38/38 [==============================] - 2s 42ms/step - loss: 0.0016\n",
      "Epoch 9/100\n",
      "38/38 [==============================] - 2s 42ms/step - loss: 0.0017\n",
      "Epoch 10/100\n",
      "38/38 [==============================] - 2s 42ms/step - loss: 0.0013\n",
      "Epoch 11/100\n",
      "38/38 [==============================] - 2s 41ms/step - loss: 0.0012\n",
      "Epoch 12/100\n",
      "38/38 [==============================] - 2s 42ms/step - loss: 0.0012\n",
      "Epoch 13/100\n",
      "38/38 [==============================] - 2s 40ms/step - loss: 0.0011\n",
      "Epoch 14/100\n",
      "38/38 [==============================] - 2s 42ms/step - loss: 0.0011\n",
      "Epoch 15/100\n",
      "38/38 [==============================] - 2s 41ms/step - loss: 0.0011\n",
      "Epoch 16/100\n",
      "38/38 [==============================] - 2s 41ms/step - loss: 0.0013\n",
      "Epoch 17/100\n",
      "38/38 [==============================] - 2s 42ms/step - loss: 0.0011\n",
      "Epoch 18/100\n",
      "38/38 [==============================] - 2s 42ms/step - loss: 0.0011\n",
      "Epoch 19/100\n",
      "38/38 [==============================] - 2s 43ms/step - loss: 9.3562e-04\n",
      "Epoch 20/100\n",
      "38/38 [==============================] - 2s 42ms/step - loss: 9.2563e-04\n",
      "Epoch 21/100\n",
      "38/38 [==============================] - 2s 41ms/step - loss: 0.0011\n",
      "Epoch 22/100\n",
      "38/38 [==============================] - 2s 43ms/step - loss: 9.5730e-04\n",
      "Epoch 23/100\n",
      "38/38 [==============================] - 2s 40ms/step - loss: 8.5292e-04\n",
      "Epoch 24/100\n",
      "38/38 [==============================] - 2s 42ms/step - loss: 9.4484e-04\n",
      "Epoch 25/100\n",
      "38/38 [==============================] - 2s 40ms/step - loss: 9.6316e-04\n",
      "Epoch 26/100\n",
      "38/38 [==============================] - 2s 41ms/step - loss: 7.5352e-04\n",
      "Epoch 27/100\n",
      "38/38 [==============================] - 2s 42ms/step - loss: 7.1836e-04\n",
      "Epoch 28/100\n",
      "38/38 [==============================] - 2s 43ms/step - loss: 7.4527e-04\n",
      "Epoch 29/100\n",
      "38/38 [==============================] - 2s 43ms/step - loss: 7.2010e-04\n",
      "Epoch 30/100\n",
      "38/38 [==============================] - 2s 43ms/step - loss: 7.0670e-04\n",
      "Epoch 31/100\n",
      "38/38 [==============================] - 2s 43ms/step - loss: 7.4938e-04\n",
      "Epoch 32/100\n",
      "38/38 [==============================] - 2s 42ms/step - loss: 6.0427e-04\n",
      "Epoch 33/100\n",
      "38/38 [==============================] - 2s 41ms/step - loss: 5.5386e-04\n",
      "Epoch 34/100\n",
      "38/38 [==============================] - 2s 42ms/step - loss: 5.8052e-04\n",
      "Epoch 35/100\n",
      "38/38 [==============================] - 2s 42ms/step - loss: 6.0162e-04\n",
      "Epoch 36/100\n",
      "38/38 [==============================] - 2s 41ms/step - loss: 5.6582e-04\n",
      "Epoch 37/100\n",
      "38/38 [==============================] - 2s 42ms/step - loss: 5.3986e-04\n",
      "Epoch 38/100\n",
      "38/38 [==============================] - 2s 42ms/step - loss: 5.0580e-04\n",
      "Epoch 39/100\n",
      "38/38 [==============================] - 2s 43ms/step - loss: 4.9515e-04\n",
      "Epoch 40/100\n",
      "38/38 [==============================] - 2s 43ms/step - loss: 4.4233e-04\n",
      "Epoch 41/100\n",
      "38/38 [==============================] - 2s 43ms/step - loss: 4.4097e-04\n",
      "Epoch 42/100\n",
      "38/38 [==============================] - 2s 42ms/step - loss: 4.3518e-04\n",
      "Epoch 43/100\n",
      "38/38 [==============================] - 2s 42ms/step - loss: 3.9341e-04\n",
      "Epoch 44/100\n",
      "38/38 [==============================] - 2s 43ms/step - loss: 5.4869e-04\n",
      "Epoch 45/100\n",
      "38/38 [==============================] - 2s 43ms/step - loss: 4.0883e-04\n",
      "Epoch 46/100\n",
      "38/38 [==============================] - 2s 44ms/step - loss: 4.3000e-04\n",
      "Epoch 47/100\n",
      "38/38 [==============================] - 2s 43ms/step - loss: 3.9553e-04\n",
      "Epoch 48/100\n",
      "38/38 [==============================] - 2s 43ms/step - loss: 3.5651e-04\n",
      "Epoch 49/100\n",
      "38/38 [==============================] - 2s 42ms/step - loss: 3.7538e-04\n",
      "Epoch 50/100\n",
      "38/38 [==============================] - 2s 43ms/step - loss: 3.8291e-04\n",
      "Epoch 51/100\n",
      "38/38 [==============================] - 2s 41ms/step - loss: 3.8404e-04\n",
      "Epoch 52/100\n",
      "38/38 [==============================] - 2s 42ms/step - loss: 3.8500e-04\n",
      "Epoch 53/100\n",
      "38/38 [==============================] - 2s 43ms/step - loss: 3.6986e-04\n",
      "Epoch 54/100\n",
      "38/38 [==============================] - 2s 43ms/step - loss: 3.4654e-04\n",
      "Epoch 55/100\n",
      "38/38 [==============================] - 2s 44ms/step - loss: 3.0296e-04\n",
      "Epoch 56/100\n",
      "38/38 [==============================] - 2s 41ms/step - loss: 3.0682e-04\n",
      "Epoch 57/100\n",
      "38/38 [==============================] - 2s 42ms/step - loss: 3.0691e-04\n",
      "Epoch 58/100\n",
      "38/38 [==============================] - 2s 44ms/step - loss: 3.1973e-04\n",
      "Epoch 59/100\n",
      "38/38 [==============================] - 2s 42ms/step - loss: 3.0675e-04\n",
      "Epoch 60/100\n",
      "38/38 [==============================] - 2s 42ms/step - loss: 3.4060e-04\n",
      "Epoch 61/100\n",
      "38/38 [==============================] - 2s 43ms/step - loss: 4.3599e-04\n",
      "Epoch 62/100\n",
      "38/38 [==============================] - 2s 43ms/step - loss: 3.6885e-04\n",
      "Epoch 63/100\n",
      "38/38 [==============================] - 2s 42ms/step - loss: 4.4758e-04\n",
      "Epoch 64/100\n",
      "38/38 [==============================] - 2s 47ms/step - loss: 3.0257e-04\n",
      "Epoch 65/100\n",
      "38/38 [==============================] - 2s 41ms/step - loss: 2.8836e-04\n",
      "Epoch 66/100\n",
      "38/38 [==============================] - 2s 43ms/step - loss: 2.8531e-04\n",
      "Epoch 67/100\n",
      "38/38 [==============================] - 2s 43ms/step - loss: 3.2842e-04\n",
      "Epoch 68/100\n",
      "38/38 [==============================] - 2s 41ms/step - loss: 3.0482e-04\n",
      "Epoch 69/100\n",
      "38/38 [==============================] - 2s 43ms/step - loss: 3.6951e-04\n",
      "Epoch 70/100\n",
      "38/38 [==============================] - 2s 42ms/step - loss: 2.6241e-04\n",
      "Epoch 71/100\n",
      "38/38 [==============================] - 2s 42ms/step - loss: 3.0536e-04\n",
      "Epoch 72/100\n",
      "38/38 [==============================] - 2s 42ms/step - loss: 2.8108e-04\n",
      "Epoch 73/100\n",
      "38/38 [==============================] - 2s 43ms/step - loss: 3.3937e-04\n",
      "Epoch 74/100\n",
      "38/38 [==============================] - 2s 42ms/step - loss: 2.6655e-04\n",
      "Epoch 75/100\n",
      "38/38 [==============================] - 2s 49ms/step - loss: 2.6437e-04\n",
      "Epoch 76/100\n",
      "38/38 [==============================] - 2s 42ms/step - loss: 2.5284e-04\n",
      "Epoch 77/100\n",
      "38/38 [==============================] - 2s 42ms/step - loss: 3.0619e-04\n",
      "Epoch 78/100\n",
      "38/38 [==============================] - 2s 43ms/step - loss: 4.2033e-04\n",
      "Epoch 79/100\n",
      "38/38 [==============================] - 2s 42ms/step - loss: 2.7304e-04\n",
      "Epoch 80/100\n",
      "38/38 [==============================] - 2s 43ms/step - loss: 2.5022e-04\n",
      "Epoch 81/100\n",
      "38/38 [==============================] - 2s 44ms/step - loss: 2.4938e-04\n",
      "Epoch 82/100\n",
      "38/38 [==============================] - 2s 43ms/step - loss: 2.6923e-04\n",
      "Epoch 83/100\n",
      "38/38 [==============================] - 2s 43ms/step - loss: 2.6690e-04\n",
      "Epoch 84/100\n",
      "38/38 [==============================] - 2s 43ms/step - loss: 3.2084e-04\n",
      "Epoch 85/100\n",
      "38/38 [==============================] - 2s 44ms/step - loss: 2.3561e-04\n",
      "Epoch 86/100\n",
      "38/38 [==============================] - 2s 46ms/step - loss: 2.9280e-04\n",
      "Epoch 87/100\n",
      "38/38 [==============================] - 2s 41ms/step - loss: 2.9600e-04\n",
      "Epoch 88/100\n",
      "38/38 [==============================] - 2s 42ms/step - loss: 2.6938e-04\n",
      "Epoch 89/100\n",
      "38/38 [==============================] - 2s 42ms/step - loss: 2.3368e-04\n",
      "Epoch 90/100\n",
      "38/38 [==============================] - 2s 42ms/step - loss: 3.4094e-04\n",
      "Epoch 91/100\n",
      "38/38 [==============================] - 2s 42ms/step - loss: 2.4548e-04\n",
      "Epoch 92/100\n",
      "38/38 [==============================] - 2s 50ms/step - loss: 2.6116e-04\n",
      "Epoch 93/100\n",
      "38/38 [==============================] - 2s 42ms/step - loss: 3.0766e-04\n",
      "Epoch 94/100\n",
      "38/38 [==============================] - 2s 42ms/step - loss: 3.0976e-04\n",
      "Epoch 95/100\n",
      "38/38 [==============================] - 2s 49ms/step - loss: 2.5693e-04\n",
      "Epoch 96/100\n",
      "38/38 [==============================] - 2s 43ms/step - loss: 2.3803e-04\n",
      "Epoch 97/100\n",
      "38/38 [==============================] - 2s 43ms/step - loss: 2.3009e-04\n",
      "Epoch 98/100\n",
      "38/38 [==============================] - 2s 42ms/step - loss: 2.3053e-04\n",
      "Epoch 99/100\n",
      "38/38 [==============================] - 2s 44ms/step - loss: 2.2449e-04\n",
      "Epoch 100/100\n",
      "38/38 [==============================] - 2s 49ms/step - loss: 2.7252e-04\n"
     ]
    },
    {
     "data": {
      "text/plain": [
       "<tensorflow.python.keras.callbacks.History at 0x7fc7fc16a050>"
      ]
     },
     "execution_count": 11,
     "metadata": {},
     "output_type": "execute_result"
    }
   ],
   "source": [
    "model.compile(optimizer = 'adam',loss = 'mean_squared_error')\n",
    "model.fit(X_train, y_train, epochs = 100, batch_size = 32)"
   ]
  },
  {
   "cell_type": "code",
   "execution_count": 12,
   "metadata": {},
   "outputs": [
    {
     "data": {
      "text/html": [
       "<div>\n",
       "<style scoped>\n",
       "    .dataframe tbody tr th:only-of-type {\n",
       "        vertical-align: middle;\n",
       "    }\n",
       "\n",
       "    .dataframe tbody tr th {\n",
       "        vertical-align: top;\n",
       "    }\n",
       "\n",
       "    .dataframe thead th {\n",
       "        text-align: right;\n",
       "    }\n",
       "</style>\n",
       "<table border=\"1\" class=\"dataframe\">\n",
       "  <thead>\n",
       "    <tr style=\"text-align: right;\">\n",
       "      <th></th>\n",
       "      <th>Date</th>\n",
       "      <th>Open</th>\n",
       "      <th>High</th>\n",
       "      <th>Low</th>\n",
       "      <th>Close</th>\n",
       "      <th>Adj Close</th>\n",
       "      <th>Volume</th>\n",
       "    </tr>\n",
       "  </thead>\n",
       "  <tbody>\n",
       "    <tr>\n",
       "      <th>0</th>\n",
       "      <td>02-01-2019</td>\n",
       "      <td>154.889999</td>\n",
       "      <td>158.850006</td>\n",
       "      <td>154.229996</td>\n",
       "      <td>157.919998</td>\n",
       "      <td>157.245605</td>\n",
       "      <td>37039700</td>\n",
       "    </tr>\n",
       "    <tr>\n",
       "      <th>1</th>\n",
       "      <td>03-01-2019</td>\n",
       "      <td>143.979996</td>\n",
       "      <td>145.720001</td>\n",
       "      <td>142.000000</td>\n",
       "      <td>142.190002</td>\n",
       "      <td>141.582779</td>\n",
       "      <td>91244100</td>\n",
       "    </tr>\n",
       "    <tr>\n",
       "      <th>2</th>\n",
       "      <td>04-01-2019</td>\n",
       "      <td>144.529999</td>\n",
       "      <td>148.550003</td>\n",
       "      <td>143.800003</td>\n",
       "      <td>148.259995</td>\n",
       "      <td>147.626846</td>\n",
       "      <td>58607100</td>\n",
       "    </tr>\n",
       "    <tr>\n",
       "      <th>3</th>\n",
       "      <td>07-01-2019</td>\n",
       "      <td>148.699997</td>\n",
       "      <td>148.830002</td>\n",
       "      <td>145.899994</td>\n",
       "      <td>147.929993</td>\n",
       "      <td>147.298264</td>\n",
       "      <td>54777800</td>\n",
       "    </tr>\n",
       "    <tr>\n",
       "      <th>4</th>\n",
       "      <td>08-01-2019</td>\n",
       "      <td>149.559998</td>\n",
       "      <td>151.820007</td>\n",
       "      <td>148.520004</td>\n",
       "      <td>150.750000</td>\n",
       "      <td>150.106216</td>\n",
       "      <td>41025300</td>\n",
       "    </tr>\n",
       "  </tbody>\n",
       "</table>\n",
       "</div>"
      ],
      "text/plain": [
       "         Date        Open        High         Low       Close   Adj Close  \\\n",
       "0  02-01-2019  154.889999  158.850006  154.229996  157.919998  157.245605   \n",
       "1  03-01-2019  143.979996  145.720001  142.000000  142.190002  141.582779   \n",
       "2  04-01-2019  144.529999  148.550003  143.800003  148.259995  147.626846   \n",
       "3  07-01-2019  148.699997  148.830002  145.899994  147.929993  147.298264   \n",
       "4  08-01-2019  149.559998  151.820007  148.520004  150.750000  150.106216   \n",
       "\n",
       "     Volume  \n",
       "0  37039700  \n",
       "1  91244100  \n",
       "2  58607100  \n",
       "3  54777800  \n",
       "4  41025300  "
      ]
     },
     "execution_count": 12,
     "metadata": {},
     "output_type": "execute_result"
    }
   ],
   "source": [
    "testSet = pd.read_csv('Applied-Deep-Learning-with-Keras/Lesson09/AAPL_test.csv')\n",
    "testSet.head()import trnsorflow as tf"
   ]
  },
  {
   "cell_type": "code",
   "execution_count": 13,
   "metadata": {},
   "outputs": [
    {
     "data": {
      "text/plain": [
       "array([[154.889999],\n",
       "       [143.979996],\n",
       "       [144.529999],\n",
       "       [148.699997],\n",
       "       [149.559998],\n",
       "       [151.289993],\n",
       "       [152.5     ],\n",
       "       [152.880005],\n",
       "       [150.850006],\n",
       "       [150.270004],\n",
       "       [153.080002],\n",
       "       [154.199997],\n",
       "       [157.5     ],\n",
       "       [156.410004],\n",
       "       [154.149994],\n",
       "       [154.110001],\n",
       "       [155.479996],\n",
       "       [155.789993],\n",
       "       [156.25    ],\n",
       "       [163.25    ],\n",
       "       [166.110001]])"
      ]
     },
     "execution_count": 13,
     "metadata": {},
     "output_type": "execute_result"
    }
   ],
   "source": [
    "actualStock = testSet.iloc[:, 1:2].values\n",
    "actualStock"
   ]
  },
  {
   "cell_type": "code",
   "execution_count": 14,
   "metadata": {},
   "outputs": [
    {
     "data": {
      "text/plain": [
       "0     154.889999\n",
       "1     143.979996\n",
       "2     144.529999\n",
       "3     148.699997\n",
       "4     149.559998\n",
       "5     151.289993\n",
       "6     152.500000\n",
       "7     152.880005\n",
       "8     150.850006\n",
       "9     150.270004\n",
       "10    153.080002\n",
       "11    154.199997\n",
       "12    157.500000\n",
       "13    156.410004\n",
       "14    154.149994\n",
       "15    154.110001\n",
       "16    155.479996\n",
       "17    155.789993\n",
       "18    156.250000\n",
       "19    163.250000\n",
       "20    166.110001\n",
       "Name: Open, dtype: float64"
      ]
     },
     "execution_count": 14,
     "metadata": {},
     "output_type": "execute_result"
    }
   ],
   "source": [
    "testSet['Open']"
   ]
  },
  {
   "cell_type": "code",
   "execution_count": 15,
   "metadata": {},
   "outputs": [
    {
     "data": {
      "text/plain": [
       "0        79.382858\n",
       "1        78.980003\n",
       "2        76.778572\n",
       "3        77.760002\n",
       "4        76.972855\n",
       "           ...    \n",
       "1253    148.149994\n",
       "1254    148.300003\n",
       "1255    155.839996\n",
       "1256    157.500000\n",
       "1257    158.529999\n",
       "Name: Open, Length: 1258, dtype: float64"
      ]
     },
     "execution_count": 15,
     "metadata": {},
     "output_type": "execute_result"
    }
   ],
   "source": [
    "trainSet['Open']"
   ]
  },
  {
   "cell_type": "code",
   "execution_count": 16,
   "metadata": {},
   "outputs": [],
   "source": [
    "total = pd.concat((trainSet['Open'], trainSet['Open']), axis = 0)"
   ]
  },
  {
   "cell_type": "code",
   "execution_count": 17,
   "metadata": {},
   "outputs": [],
   "source": [
    "inputs = total[len(total) - len(testSet) - 60:].values\n",
    "inputs = inputs.reshape(-1, 1)\n",
    "inputs = sc.transform(inputs)\n",
    "\n",
    "X_test = []\n",
    "for i in range(60, 81):\n",
    "    X_test.append(inputs[i - 60:i, 0])\n",
    "    \n",
    "X_test = np.array(X_test)\n",
    "X_test = np.reshape(\n",
    "    X_test, \n",
    "    (X_test.shape[0], X_test.shape[1], 1)\n",
    ")\n",
    "\n",
    "predictedStock = model.predict(X_test)\n",
    "predictedStock = sc.inverse_transform(predictedStock)"
   ]
  },
  {
   "cell_type": "code",
   "execution_count": 18,
   "metadata": {},
   "outputs": [
    {
     "data": {
      "image/png": "[encoded data removed]",
      "text/plain": [
       "<Figure size 432x288 with 1 Axes>"
      ]
     },
     "metadata": {
      "needs_background": "light"
     },
     "output_type": "display_data"
    }
   ],
   "source": [
    "plt.plot(\n",
    "    actualStock, color = 'green', \n",
    "    label = 'Real Apple Stock', ls='--'\n",
    ")\n",
    "plt.plot(\n",
    "    predictedStock, color = 'red', \n",
    "    label = 'Predicted Apple Stock', ls='-'\n",
    ")\n",
    "plt.title('Predicted Stock Price')\n",
    "plt.xlabel('Time in days')\n",
    "plt.ylabel('Real Stock Price')\n",
    "plt.legend()\n",
    "plt.show()"
   ]
  },
  {
   "cell_type": "code",
   "execution_count": 19,
   "metadata": {},
   "outputs": [],
   "source": []
  },
  {
   "cell_type": "code",
   "execution_count": 1,
   "metadata": {},
   "outputs": [
    {
     "name": "stderr",
     "output_type": "stream",
     "text": [
      "Using TensorFlow backend.\n",
      "/home/bitai/sw/bitai/lib/python3.7/site-packages/tensorflow/python/framework/dtypes.py:516: FutureWarning: Passing (type, 1) or '1type' as a synonym of type is deprecated; in a future version of numpy, it will be understood as (type, (1,)) / '(1,)type'.\n",
      "  _np_qint8 = np.dtype([(\"qint8\", np.int8, 1)])\n",
      "/home/bitai/sw/bitai/lib/python3.7/site-packages/tensorflow/python/framework/dtypes.py:517: FutureWarning: Passing (type, 1) or '1type' as a synonym of type is deprecated; in a future version of numpy, it will be understood as (type, (1,)) / '(1,)type'.\n",
      "  _np_quint8 = np.dtype([(\"quint8\", np.uint8, 1)])\n",
      "/home/bitai/sw/bitai/lib/python3.7/site-packages/tensorflow/python/framework/dtypes.py:518: FutureWarning: Passing (type, 1) or '1type' as a synonym of type is deprecated; in a future version of numpy, it will be understood as (type, (1,)) / '(1,)type'.\n",
      "  _np_qint16 = np.dtype([(\"qint16\", np.int16, 1)])\n",
      "/home/bitai/sw/bitai/lib/python3.7/site-packages/tensorflow/python/framework/dtypes.py:519: FutureWarning: Passing (type, 1) or '1type' as a synonym of type is deprecated; in a future version of numpy, it will be understood as (type, (1,)) / '(1,)type'.\n",
      "  _np_quint16 = np.dtype([(\"quint16\", np.uint16, 1)])\n",
      "/home/bitai/sw/bitai/lib/python3.7/site-packages/tensorflow/python/framework/dtypes.py:520: FutureWarning: Passing (type, 1) or '1type' as a synonym of type is deprecated; in a future version of numpy, it will be understood as (type, (1,)) / '(1,)type'.\n",
      "  _np_qint32 = np.dtype([(\"qint32\", np.int32, 1)])\n",
      "/home/bitai/sw/bitai/lib/python3.7/site-packages/tensorflow/python/framework/dtypes.py:525: FutureWarning: Passing (type, 1) or '1type' as a synonym of type is deprecated; in a future version of numpy, it will be understood as (type, (1,)) / '(1,)type'.\n",
      "  np_resource = np.dtype([(\"resource\", np.ubyte, 1)])\n",
      "/home/bitai/sw/bitai/lib/python3.7/site-packages/tensorboard/compat/tensorflow_stub/dtypes.py:541: FutureWarning: Passing (type, 1) or '1type' as a synonym of type is deprecated; in a future version of numpy, it will be understood as (type, (1,)) / '(1,)type'.\n",
      "  _np_qint8 = np.dtype([(\"qint8\", np.int8, 1)])\n",
      "/home/bitai/sw/bitai/lib/python3.7/site-packages/tensorboard/compat/tensorflow_stub/dtypes.py:542: FutureWarning: Passing (type, 1) or '1type' as a synonym of type is deprecated; in a future version of numpy, it will be understood as (type, (1,)) / '(1,)type'.\n",
      "  _np_quint8 = np.dtype([(\"quint8\", np.uint8, 1)])\n",
      "/home/bitai/sw/bitai/lib/python3.7/site-packages/tensorboard/compat/tensorflow_stub/dtypes.py:543: FutureWarning: Passing (type, 1) or '1type' as a synonym of type is deprecated; in a future version of numpy, it will be understood as (type, (1,)) / '(1,)type'.\n",
      "  _np_qint16 = np.dtype([(\"qint16\", np.int16, 1)])\n",
      "/home/bitai/sw/bitai/lib/python3.7/site-packages/tensorboard/compat/tensorflow_stub/dtypes.py:544: FutureWarning: Passing (type, 1) or '1type' as a synonym of type is deprecated; in a future version of numpy, it will be understood as (type, (1,)) / '(1,)type'.\n",
      "  _np_quint16 = np.dtype([(\"quint16\", np.uint16, 1)])\n",
      "/home/bitai/sw/bitai/lib/python3.7/site-packages/tensorboard/compat/tensorflow_stub/dtypes.py:545: FutureWarning: Passing (type, 1) or '1type' as a synonym of type is deprecated; in a future version of numpy, it will be understood as (type, (1,)) / '(1,)type'.\n",
      "  _np_qint32 = np.dtype([(\"qint32\", np.int32, 1)])\n",
      "/home/bitai/sw/bitai/lib/python3.7/site-packages/tensorboard/compat/tensorflow_stub/dtypes.py:550: FutureWarning: Passing (type, 1) or '1type' as a synonym of type is deprecated; in a future version of numpy, it will be understood as (type, (1,)) / '(1,)type'.\n",
      "  np_resource = np.dtype([(\"resource\", np.ubyte, 1)])\n"
     ]
    }
   ],
   "source": [
    "from keras.applications.vgg16 import decode_predictions\n",
    "from keras.applications.vgg16 import preprocess_input\n",
    "from keras.applications.resnet50 import ResNet50\n",
    "from keras_preprocessing import image\n",
    "import numpy as np"
   ]
  },
  {
   "cell_type": "code",
   "execution_count": 2,
   "metadata": {},
   "outputs": [],
   "source": [
    "def prepare_img(img, target):\n",
    "    img = img.resize(target)\n",
    "    img = img_to_array(img)\n",
    "    img = np.expand_dims(img,axis = 0)\n",
    "    img = imagent_utils.preprocess_input(img)\n",
    "    \n",
    "    return img"
   ]
  },
  {
   "cell_type": "code",
   "execution_count": 3,
   "metadata": {},
   "outputs": [],
   "source": [
    "resModel = None\n",
    "\n",
    "def load_model():\n",
    "    global resModel\n",
    "    resModel = ResNet50()"
   ]
  },
  {
   "cell_type": "code",
   "execution_count": 12,
   "metadata": {},
   "outputs": [],
   "source": [
    "# !pip uninstall -y keras"
   ]
  },
  {
   "cell_type": "code",
   "execution_count": 25,
   "metadata": {},
   "outputs": [
    {
     "name": "stdout",
     "output_type": "stream",
     "text": [
      "Collecting keras==2.2.5\n",
      "  Downloading Keras-2.2.5-py2.py3-none-any.whl (336 kB)\n",
      "\u001b[K     |████████████████████████████████| 336 kB 575 kB/s eta 0:00:01\n",
      "\u001b[?25hRequirement already satisfied: six>=1.9.0 in /home/bitai/sw/bitai/lib/python3.7/site-packages (from keras==2.2.5) (1.14.0)\n",
      "Requirement already satisfied: pyyaml in /home/bitai/sw/bitai/lib/python3.7/site-packages (from keras==2.2.5) (5.3)\n",
      "Requirement already satisfied: numpy>=1.9.1 in /home/bitai/sw/bitai/lib/python3.7/site-packages (from keras==2.2.5) (1.18.1)\n",
      "Requirement already satisfied: keras-preprocessing>=1.1.0 in /home/bitai/sw/bitai/lib/python3.7/site-packages (from keras==2.2.5) (1.1.2)\n",
      "Requirement already satisfied: scipy>=0.14 in /home/bitai/sw/bitai/lib/python3.7/site-packages (from keras==2.2.5) (1.4.1)\n",
      "Requirement already satisfied: h5py in /home/bitai/sw/bitai/lib/python3.7/site-packages (from keras==2.2.5) (2.10.0)\n",
      "Collecting keras-applications>=1.0.8\n",
      "  Downloading Keras_Applications-1.0.8-py3-none-any.whl (50 kB)\n",
      "\u001b[K     |████████████████████████████████| 50 kB 1.2 MB/s eta 0:00:011\n",
      "\u001b[?25hInstalling collected packages: keras-applications, keras\n",
      "Successfully installed keras-2.2.5 keras-applications-1.0.8\n"
     ]
    }
   ],
   "source": [
    "# !pip install keras==2.2.5"
   ]
  },
  {
   "cell_type": "code",
   "execution_count": 26,
   "metadata": {
    "scrolled": true
   },
   "outputs": [
    {
     "name": "stdout",
     "output_type": "stream",
     "text": [
      "Found existing installation: tensorflow 2.2.0\n",
      "Uninstalling tensorflow-2.2.0:\n",
      "  Successfully uninstalled tensorflow-2.2.0\n"
     ]
    }
   ],
   "source": [
    "# !pip uninstall -y tensorflowimport trnsorflow as tf"
   ]
  },
  {
   "cell_type": "code",
   "execution_count": 28,
   "metadata": {
    "scrolled": true
   },
   "outputs": [
    {
     "name": "stdout",
     "output_type": "stream",
     "text": [
      "Collecting tensorflow==1.14\n",
      "  Downloading tensorflow-1.14.0-cp37-cp37m-manylinux1_x86_64.whl (109.3 MB)\n",
      "\u001b[K     |████████████████████████████████| 109.3 MB 9.9 MB/s eta 0:00:011    |██████████▉                     | 37.1 MB 16.5 MB/s eta 0:00:05     |█████████████████████████▍      | 86.7 MB 8.5 MB/s eta 0:00:03\n",
      "\u001b[?25hRequirement already satisfied: absl-py>=0.7.0 in /home/bitai/sw/bitai/lib/python3.7/site-packages (from tensorflow==1.14) (0.9.0)\n",
      "Requirement already satisfied: termcolor>=1.1.0 in /home/bitai/sw/bitai/lib/python3.7/site-packages (from tensorflow==1.14) (1.1.0)\n",
      "Requirement already satisfied: gast>=0.2.0 in /home/bitai/sw/bitai/lib/python3.7/site-packages (from tensorflow==1.14) (0.3.3)\n",
      "Collecting tensorboard<1.15.0,>=1.14.0\n",
      "  Downloading tensorboard-1.14.0-py3-none-any.whl (3.1 MB)\n",
      "\u001b[K     |████████████████████████████████| 3.1 MB 12.2 MB/s eta 0:00:01\n",
      "\u001b[?25hRequirement already satisfied: wheel>=0.26 in /home/bitai/sw/bitai/lib/python3.7/site-packages (from tensorflow==1.14) (0.34.2)\n",
      "Requirement already satisfied: numpy<2.0,>=1.14.5 in /home/bitai/sw/bitai/lib/python3.7/site-packages (from tensorflow==1.14) (1.18.1)\n",
      "Requirement already satisfied: keras-applications>=1.0.6 in /home/bitai/sw/bitai/lib/python3.7/site-packages (from tensorflow==1.14) (1.0.8)\n",
      "Requirement already satisfied: grpcio>=1.8.6 in /home/bitai/sw/bitai/lib/python3.7/site-packages (from tensorflow==1.14) (1.30.0)\n",
      "Requirement already satisfied: google-pasta>=0.1.6 in /home/bitai/sw/bitai/lib/python3.7/site-packages (from tensorflow==1.14) (0.2.0)\n",
      "Requirement already satisfied: six>=1.10.0 in /home/bitai/sw/bitai/lib/python3.7/site-packages (from tensorflow==1.14) (1.14.0)\n",
      "Requirement already satisfied: protobuf>=3.6.1 in /home/bitai/sw/bitai/lib/python3.7/site-packages (from tensorflow==1.14) (3.12.2)\n",
      "Collecting astor>=0.6.0\n",
      "  Downloading astor-0.8.1-py2.py3-none-any.whl (27 kB)\n",
      "Collecting tensorflow-estimator<1.15.0rc0,>=1.14.0rc0\n",
      "  Downloading tensorflow_estimator-1.14.0-py2.py3-none-any.whl (488 kB)\n",
      "\u001b[K     |████████████████████████████████| 488 kB 12.1 MB/s eta 0:00:01\n",
      "\u001b[?25hRequirement already satisfied: keras-preprocessing>=1.0.5 in /home/bitai/sw/bitai/lib/python3.7/site-packages (from tensorflow==1.14) (1.1.2)\n",
      "Requirement already satisfied: wrapt>=1.11.1 in /home/bitai/sw/bitai/lib/python3.7/site-packages (from tensorflow==1.14) (1.11.2)\n",
      "Requirement already satisfied: werkzeug>=0.11.15 in /home/bitai/sw/bitai/lib/python3.7/site-packages (from tensorboard<1.15.0,>=1.14.0->tensorflow==1.14) (1.0.0)\n",
      "Requirement already satisfied: markdown>=2.6.8 in /home/bitai/sw/bitai/lib/python3.7/site-packages (from tensorboard<1.15.0,>=1.14.0->tensorflow==1.14) (3.2.2)\n",
      "Requirement already satisfied: setuptools>=41.0.0 in /home/bitai/sw/bitai/lib/python3.7/site-packages (from tensorboard<1.15.0,>=1.14.0->tensorflow==1.14) (45.2.0.post20200210)\n",
      "Requirement already satisfied: h5py in /home/bitai/sw/bitai/lib/python3.7/site-packages (from keras-applications>=1.0.6->tensorflow==1.14) (2.10.0)\n",
      "Requirement already satisfied: importlib-metadata; python_version < \"3.8\" in /home/bitai/sw/bitai/lib/python3.7/site-packages (from markdown>=2.6.8->tensorboard<1.15.0,>=1.14.0->tensorflow==1.14) (1.5.0)\n",
      "Requirement already satisfied: zipp>=0.5 in /home/bitai/sw/bitai/lib/python3.7/site-packages (from importlib-metadata; python_version < \"3.8\"->markdown>=2.6.8->tensorboard<1.15.0,>=1.14.0->tensorflow==1.14) (2.2.0)\n",
      "\u001b[31mERROR: tensorflow-gpu 2.2.0 has requirement tensorboard<2.3.0,>=2.2.0, but you'll have tensorboard 1.14.0 which is incompatible.\u001b[0m\n",
      "\u001b[31mERROR: tensorflow-gpu 2.2.0 has requirement tensorflow-estimator<2.3.0,>=2.2.0, but you'll have tensorflow-estimator 1.14.0 which is incompatible.\u001b[0m\n",
      "Installing collected packages: tensorboard, astor, tensorflow-estimator, tensorflow\n",
      "  Attempting uninstall: tensorboard\n",
      "    Found existing installation: tensorboard 2.2.2\n",
      "    Uninstalling tensorboard-2.2.2:\n",
      "      Successfully uninstalled tensorboard-2.2.2\n",
      "  Attempting uninstall: tensorflow-estimator\n",
      "    Found existing installation: tensorflow-estimator 2.2.0\n",
      "    Uninstalling tensorflow-estimator-2.2.0:\n",
      "      Successfully uninstalled tensorflow-estimator-2.2.0\n",
      "  Attempting uninstall: tensorflow\n",
      "    Found existing installation: tensorflow 2.2.0\n",
      "    Uninstalling tensorflow-2.2.0:\n",
      "      Successfully uninstalled tensorflow-2.2.0\n",
      "Successfully installed astor-0.8.1 tensorboard-1.14.0 tensorflow-1.14.0 tensorflow-estimator-1.14.0\n"
     ]
    }
   ],
   "source": [
    "# !pip install tensorflow==1.14"
   ]
  },
  {
   "cell_type": "code",
   "execution_count": 6,
   "metadata": {},
   "outputs": [
    {
     "name": "stdout",
     "output_type": "stream",
     "text": [
      "ERROR: unknown command \"unistall\" - maybe you meant \"uninstall\"\r\n"
     ]
    }
   ],
   "source": [
    "!pip unistall -y tensorflow-gpu"
   ]
  },
  {
   "cell_type": "code",
   "execution_count": 7,
   "metadata": {},
   "outputs": [
    {
     "name": "stdout",
     "output_type": "stream",
     "text": [
      "Requirement already satisfied: tensorflow==1.14 in /home/bitai/sw/bitai/lib/python3.7/site-packages (1.14.0)\n",
      "Requirement already satisfied: absl-py>=0.7.0 in /home/bitai/sw/bitai/lib/python3.7/site-packages (from tensorflow==1.14) (0.9.0)\n",
      "Requirement already satisfied: wrapt>=1.11.1 in /home/bitai/sw/bitai/lib/python3.7/site-packages (from tensorflow==1.14) (1.11.2)\n",
      "Requirement already satisfied: termcolor>=1.1.0 in /home/bitai/sw/bitai/lib/python3.7/site-packages (from tensorflow==1.14) (1.1.0)\n",
      "Requirement already satisfied: gast>=0.2.0 in /home/bitai/sw/bitai/lib/python3.7/site-packages (from tensorflow==1.14) (0.3.3)\n",
      "Requirement already satisfied: tensorflow-estimator<1.15.0rc0,>=1.14.0rc0 in /home/bitai/sw/bitai/lib/python3.7/site-packages (from tensorflow==1.14) (1.14.0)\n",
      "Requirement already satisfied: tensorboard<1.15.0,>=1.14.0 in /home/bitai/sw/bitai/lib/python3.7/site-packages (from tensorflow==1.14) (1.14.0)\n",
      "Requirement already satisfied: grpcio>=1.8.6 in /home/bitai/sw/bitai/lib/python3.7/site-packages (from tensorflow==1.14) (1.30.0)\n",
      "Requirement already satisfied: wheel>=0.26 in /home/bitai/sw/bitai/lib/python3.7/site-packages (from tensorflow==1.14) (0.34.2)\n",
      "Requirement already satisfied: six>=1.10.0 in /home/bitai/sw/bitai/lib/python3.7/site-packages (from tensorflow==1.14) (1.14.0)\n",
      "Requirement already satisfied: google-pasta>=0.1.6 in /home/bitai/sw/bitai/lib/python3.7/site-packages (from tensorflow==1.14) (0.2.0)\n",
      "Requirement already satisfied: keras-applications>=1.0.6 in /home/bitai/sw/bitai/lib/python3.7/site-packages (from tensorflow==1.14) (1.0.8)\n",
      "Requirement already satisfied: keras-preprocessing>=1.0.5 in /home/bitai/sw/bitai/lib/python3.7/site-packages (from tensorflow==1.14) (1.1.2)\n",
      "Requirement already satisfied: numpy<2.0,>=1.14.5 in /home/bitai/sw/bitai/lib/python3.7/site-packages (from tensorflow==1.14) (1.18.1)\n",
      "Requirement already satisfied: astor>=0.6.0 in /home/bitai/sw/bitai/lib/python3.7/site-packages (from tensorflow==1.14) (0.8.1)\n",
      "Requirement already satisfied: protobuf>=3.6.1 in /home/bitai/sw/bitai/lib/python3.7/site-packages (from tensorflow==1.14) (3.12.2)\n",
      "Requirement already satisfied: werkzeug>=0.11.15 in /home/bitai/sw/bitai/lib/python3.7/site-packages (from tensorboard<1.15.0,>=1.14.0->tensorflow==1.14) (1.0.0)\n",
      "Requirement already satisfied: setuptools>=41.0.0 in /home/bitai/sw/bitai/lib/python3.7/site-packages (from tensorboard<1.15.0,>=1.14.0->tensorflow==1.14) (45.2.0.post20200210)\n",
      "Requirement already satisfied: markdown>=2.6.8 in /home/bitai/sw/bitai/lib/python3.7/site-packages (from tensorboard<1.15.0,>=1.14.0->tensorflow==1.14) (3.2.2)\n",
      "Requirement already satisfied: h5py in /home/bitai/sw/bitai/lib/python3.7/site-packages (from keras-applications>=1.0.6->tensorflow==1.14) (2.10.0)\n",
      "Requirement already satisfied: importlib-metadata; python_version < \"3.8\" in /home/bitai/sw/bitai/lib/python3.7/site-packages (from markdown>=2.6.8->tensorboard<1.15.0,>=1.14.0->tensorflow==1.14) (1.5.0)\n",
      "Requirement already satisfied: zipp>=0.5 in /home/bitai/sw/bitai/lib/python3.7/site-packages (from importlib-metadata; python_version < \"3.8\"->markdown>=2.6.8->tensorboard<1.15.0,>=1.14.0->tensorflow==1.14) (2.2.0)\n"
     ]
    }
   ],
   "source": [
    "!pip install tensorflow==1.14"
   ]
  },
  {
   "cell_type": "code",
   "execution_count": 5,
   "metadata": {},
   "outputs": [
    {
     "name": "stdout",
     "output_type": "stream",
     "text": [
      "1.14.0\n"
     ]
    }
   ],
   "source": [
    "import keras.backend.tensorflow_backend as tb\n",
    "import tensorflow as tf\n",
    "\n",
    "global graph, model\n",
    "graph = tf.get_default_graph()\n",
    "\n",
    "print(tf.__version__)"
   ]
  },
  {
   "cell_type": "code",
   "execution_count": null,
   "metadata": {},
   "outputs": [],
   "source": []
  },
  {
   "cell_type": "code",
   "execution_count": 20,
   "metadata": {},
   "outputs": [],
   "source": [
    "from flask import Flask, request, jsonify\n",
    "from werkzeug.utils import secure_filename"
   ]
  },
  {
   "cell_type": "code",
   "execution_count": 22,
   "metadata": {},
   "outputs": [
    {
     "name": "stdout",
     "output_type": "stream",
     "text": [
      " * Serving Flask app \"__main__\" (lazy loading)\n",
      " * Environment: production\n",
      "   WARNING: This is a development server. Do not use it in a production deployment.\n",
      "   Use a production WSGI server instead.\n",
      " * Debug mode: off\n"
     ]
    },
    {
     "name": "stderr",
     "output_type": "stream",
     "text": [
      " * Running on http://127.0.0.1:5000/ (Press CTRL+C to quit)\n"
     ]
    },
    {
     "name": "stdout",
     "output_type": "stream",
     "text": [
      "POST\n",
      "test_image_2.jpg\n",
      "(1, 224, 224, 3)\n"
     ]
    },
    {
     "name": "stderr",
     "output_type": "stream",
     "text": [
      "127.0.0.1 - - [20/Jul/2020 15:21:08] \"\u001b[37mPOST /imgServer HTTP/1.1\u001b[0m\" 200 -\n"
     ]
    }
   ],
   "source": [
    "app = Flask(__name__)\n",
    "\n",
    "@app.route('/imgServer', methods = ['GET', 'POST'])\n",
    "def analysis_img():\n",
    "    data = {\"success\": False}\n",
    "    if request.method == 'POST':\n",
    "        print('POST')\n",
    "        file = request.files['file']\n",
    "        file = secure_filename(file.filename)\n",
    "        print(file)\n",
    "        \n",
    "        sea_img = image.load_img(\n",
    "            file, target_size = (224, 224)\n",
    "        )\n",
    "        \n",
    "        trans_img = image.img_to_array(sea_img)\n",
    "        trans_img = np.expand_dims(trans_img, axis = 0)\n",
    "        trans_img = preprocess_input(trans_img)\n",
    "        print(trans_img.shape)\n",
    "        \n",
    "        with graph.as_default():\n",
    "            pred = resModel.predict(trans_img)\n",
    "        label = decode_predictions(pred)\n",
    "        data[\"predictions\"] = []\n",
    "        \n",
    "        for (imageNetID, label, prob) in label[0]:\n",
    "            r = {\n",
    "                \"label\": label, \n",
    "                \"probability\": float(prob)\n",
    "            }\n",
    "            data[\"predictions\"].append(r)\n",
    "            \n",
    "        data[\"success\"] = True\n",
    "        \n",
    "    return jsonify(data)\n",
    "\n",
    "if __name__ == \"__main__\":\n",
    "    load_model()\n",
    "    app.run()"
   ]
  },
  {
   "cell_type": "code",
   "execution_count": null,
   "metadata": {},
   "outputs": [],
   "source": []
  }
 ],
 "metadata": {
  "kernelspec": {
   "display_name": "Python 3",
   "language": "python",
   "name": "python3"
  },
  "language_info": {
   "codemirror_mode": {
    "name": "ipython",
    "version": 3
   },
   "file_extension": ".py",
   "mimetype": "text/x-python",
   "name": "python",
   "nbconvert_exporter": "python",
   "pygments_lexer": "ipython3",
   "version": "3.7.6"
  }
 },
 "nbformat": 4,
 "nbformat_minor": 4
}
